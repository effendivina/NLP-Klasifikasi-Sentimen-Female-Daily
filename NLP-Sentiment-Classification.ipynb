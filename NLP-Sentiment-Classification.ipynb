{
 "cells": [
  {
   "cell_type": "code",
   "execution_count": 5,
   "metadata": {},
   "outputs": [],
   "source": [
    "from Sastrawi.Stemmer.StemmerFactory import StemmerFactory\n",
    "import csv\n",
    "import random\n",
    "import re\n",
    "import sys\n",
    "import nltk\n",
    "from nltk.corpus import stopwords"
   ]
  },
  {
   "cell_type": "markdown",
   "metadata": {},
   "source": [
    "# FUNGSI PREPROCESSING"
   ]
  },
  {
   "cell_type": "code",
   "execution_count": 6,
   "metadata": {},
   "outputs": [],
   "source": [
    "def openFile(file_name):\n",
    "    with open(file_name, encoding=\"utf-8\") as csvfile: \n",
    "        next(csvfile)\n",
    "        rawArticles = csv.reader(csvfile, delimiter=',') \n",
    "        all_reviews = [] \n",
    "        all_sentiment = []\n",
    "        for row in rawArticles:\n",
    "            all_reviews.append((row[3].lower()).split())\n",
    "            all_sentiment.append(row[5].lower())\n",
    "        return all_reviews, all_sentiment\n",
    "#     n_reviews=len(all_reviews)\n",
    "#     randomize = random.sample(range(n_reviews), n_reviews)\n",
    "#     idx_train = randomize[:(int(n_reviews*0.8))]\n",
    "#     idx_test = randomize[(int(n_reviews*0.8)):]\n",
    "#     reviews_train = [all_reviews[idx] for idx in idx_train]\n",
    "#     sentiment_train = [all_sentiment[idx] for idx in idx_train]\n",
    "#     reviews_test = [all_reviews[idx] for idx in idx_test]\n",
    "#     sentiment_test = [all_sentiment[idx] for idx in idx_test]\n",
    "#     return reviews_train, sentiment_train, reviews_test, sentiment_test\n"
   ]
  },
  {
   "cell_type": "code",
   "execution_count": 7,
   "metadata": {},
   "outputs": [],
   "source": [
    "def getStopWordsList(stopwordsfile):\n",
    "    stopwords=[]\n",
    "    file_stopwords = open(stopwordsfile,'r')\n",
    "    row = file_stopwords.readline()\n",
    "    while row:\n",
    "        word = row.strip()\n",
    "        stopwords.append(word)\n",
    "        row = file_stopwords.readline()\n",
    "    file_stopwords.close()\n",
    "    return stopwords"
   ]
  },
  {
   "cell_type": "code",
   "execution_count": 8,
   "metadata": {},
   "outputs": [],
   "source": [
    "def getEmojiHandling(review):\n",
    "    emoji = []\n",
    "    for word in review:\n",
    "        #Smile -- :), : ), :-), (:, ( :, (-:, :')\n",
    "        word = re.sub(r'(:\\s?\\)|:-\\)|\\(\\s?:|\\(-:|:\\'\\))','POS',word)\n",
    "        \n",
    "        #Laugh -- :D, : D, :-D, xD, x-D, XD, X-D\n",
    "        word = re.sub(r'(:\\s?D|:-D|x-?D|X-?D)','POS',word)\n",
    "\n",
    "        # Sad -- :-(, : (, :(, ):, )-:\n",
    "        word = re.sub(r'(:\\s?\\(|:-\\(|\\)\\s?:|\\)-:)', ' NEG ', word)\n",
    "\n",
    "        # Cry -- :,(, :'(, :\"(, T_T\n",
    "        word = re.sub(r'(:,\\(|:\\'\\(|:\"\\(|T_T)', ' NEG ', word)\n",
    "\n",
    "        emoji.append(word)\n",
    "    return emoji"
   ]
  },
  {
   "cell_type": "code",
   "execution_count": 9,
   "metadata": {},
   "outputs": [],
   "source": [
    "def getPunctHandling(review):\n",
    "    #menghilangkan tanda baca\n",
    "    preprocess_review = []\n",
    "    for word in review:\n",
    "        word = word.strip('\\'\"?!,.():;')\n",
    "\n",
    "        #mengkonversi huruf vocal lebih dari satu dan berurutan\n",
    "        word_character = re.compile(r\"(.)\\1+\", re.DOTALL)\n",
    "        word = word_character.sub(r\"\\1\\1\", word)\n",
    "\n",
    "        #menghilangkan tanda - & '\n",
    "        word = re.sub(r'(-|\\')','',word)\n",
    "\n",
    "        preprocess_review.append(word.lower())\n",
    "    return preprocess_review"
   ]
  },
  {
   "cell_type": "code",
   "execution_count": 10,
   "metadata": {},
   "outputs": [],
   "source": [
    "def getStemmingSentence(review):\n",
    "    factory = StemmerFactory()\n",
    "    stemmer = factory.create_stemmer()\n",
    "    return stemmer.stem(review)\n"
   ]
  },
  {
   "cell_type": "code",
   "execution_count": 11,
   "metadata": {},
   "outputs": [],
   "source": [
    "def getFeatureVector(review,stop_words_indo,stop_words_eng):\n",
    "    feature_vector = []\n",
    "    list_no = ['ga','engga','enggak','gak','nggak','ngga','tdk']\n",
    "    for word in review:\n",
    "        val = re.search(r\"^[a-zA-Z][a-zA-Z0-9]*$\", word) #menghilangkan karakter selain huruf didalam kata\n",
    "        if (word in stop_words_indo or val is None or word in stop_words_eng):\n",
    "            continue\n",
    "        else:\n",
    "            if word in list_no:\n",
    "                word = 'tidak'\n",
    "            feature_vector.append(word)\n",
    "    for_stemming = ' '.join(feature_vector)\n",
    "    return feature_vector, for_stemming\n"
   ]
  },
  {
   "cell_type": "code",
   "execution_count": 12,
   "metadata": {},
   "outputs": [],
   "source": [
    "def getNegativeHandling(review):\n",
    "    negative_review = []\n",
    "    for i in range(len(review)):\n",
    "        word = review[i]\n",
    "        if review[i-1] != 'tidak':\n",
    "            negative_review.append(word)\n",
    "        else:\n",
    "            word = 'tidak_'+word\n",
    "            negative_review.append(word)\n",
    "    return negative_review"
   ]
  },
  {
   "cell_type": "code",
   "execution_count": 13,
   "metadata": {},
   "outputs": [],
   "source": [
    "def preprocessReview(review):\n",
    "    return getPunctHandling(getEmojiHandling(review))"
   ]
  },
  {
   "cell_type": "code",
   "execution_count": 14,
   "metadata": {},
   "outputs": [],
   "source": [
    "def createFreqDict(reviewHandled):\n",
    "    freqOfWord = {}\n",
    "    for sentence in reviewHandled:\n",
    "        for word in sentence:\n",
    "            if word in freqOfWord:\n",
    "                freqOfWord[word] += 1\n",
    "            else:\n",
    "                freqOfWord[word] = 1\n",
    "    file_key = open('keys.txt','w')\n",
    "    for key in freqOfWord.keys():\n",
    "        file_key.write(str(key))\n",
    "        file_key.write(\"\\n\")\n",
    "    file_key.close()\n",
    "    return freqOfWord"
   ]
  },
  {
   "cell_type": "code",
   "execution_count": 15,
   "metadata": {},
   "outputs": [],
   "source": [
    "def getFeatureExtraction(review):\n",
    "    words = set(review)\n",
    "    features = {}\n",
    "    for word in feature_list.keys():\n",
    "        features['contains(%s)' % word] = (word in words) \n",
    "    return features"
   ]
  },
  {
   "cell_type": "markdown",
   "metadata": {},
   "source": [
    "# BACA DATA"
   ]
  },
  {
   "cell_type": "code",
   "execution_count": 16,
   "metadata": {},
   "outputs": [],
   "source": [
    "all_reviews, all_sentiments = openFile('dataset.csv')\n",
    "stop_words_indo = getStopWordsList('stopwordsindo.txt')\n",
    "stop_words_eng = stopwords.words('english')"
   ]
  },
  {
   "cell_type": "markdown",
   "metadata": {},
   "source": [
    "# TRAINING DATA"
   ]
  },
  {
   "cell_type": "code",
   "execution_count": 17,
   "metadata": {},
   "outputs": [
    {
     "name": "stdout",
     "output_type": "stream",
     "text": [
      "Wall time: 23min 3s\n"
     ]
    }
   ],
   "source": [
    "%%time\n",
    "preprocess_reviews = []\n",
    "tokens = []\n",
    "reviews = []\n",
    "handled_reviews = []\n",
    "feature_list = []\n",
    "for review in all_reviews:\n",
    "    feature, review_for_stem = getFeatureVector(preprocessReview(review),stop_words_indo,stop_words_eng)\n",
    "    preprocess_reviews.append(getStemmingSentence(review_for_stem))"
   ]
  },
  {
   "cell_type": "code",
   "execution_count": 18,
   "metadata": {},
   "outputs": [
    {
     "name": "stdout",
     "output_type": "stream",
     "text": [
      "Wall time: 452 ms\n"
     ]
    }
   ],
   "source": [
    "%%time\n",
    "for review in preprocess_reviews:\n",
    "    tokens.append(nltk.word_tokenize(review))"
   ]
  },
  {
   "cell_type": "code",
   "execution_count": 20,
   "metadata": {},
   "outputs": [
    {
     "name": "stdout",
     "output_type": "stream",
     "text": [
      "Wall time: 22 ms\n"
     ]
    }
   ],
   "source": [
    "%%time\n",
    "for i in range(len(tokens)):\n",
    "    neg_handled_rev = getNegativeHandling(tokens[i])\n",
    "    handled_reviews.append(neg_handled_rev)\n",
    "    reviews.append((neg_handled_rev,all_sentiments[i]))"
   ]
  },
  {
   "cell_type": "code",
   "execution_count": 48,
   "metadata": {},
   "outputs": [],
   "source": [
    "data_training = reviews[0:400]\n",
    "data_test = []\n",
    "sentiment_test = []\n",
    "for i in range(len(reviews)):\n",
    "    if reviews[i] not in data_training:\n",
    "        data_test.append(reviews[i][0])\n",
    "        sentiment_test.append(reviews[i][1])"
   ]
  },
  {
   "cell_type": "code",
   "execution_count": 49,
   "metadata": {},
   "outputs": [
    {
     "name": "stdout",
     "output_type": "stream",
     "text": [
      "Wall time: 2.85 s\n"
     ]
    }
   ],
   "source": [
    "%%time\n",
    "feature_list = createFreqDict(handled_reviews)\n",
    "training_set = nltk.classify.util.apply_features(getFeatureExtraction,data_training)\n",
    "NBClassifier = nltk.NaiveBayesClassifier.train(training_set)"
   ]
  },
  {
   "cell_type": "markdown",
   "metadata": {},
   "source": [
    "# VALIDASI DATA TESTING"
   ]
  },
  {
   "cell_type": "code",
   "execution_count": 50,
   "metadata": {},
   "outputs": [
    {
     "name": "stdout",
     "output_type": "stream",
     "text": [
      "Wall time: 1.67 s\n"
     ]
    }
   ],
   "source": [
    "%%time\n",
    "prediction = []\n",
    "validation_test = []\n",
    "for review in data_test:\n",
    "#     feature_classification, review_test_for_stem = getFeatureVector(review,stop_words_indo,stop_words_eng)\n",
    "#     handled_reviews_test = getNegativeHandling(feature_classification)\n",
    "    classify_result = NBClassifier.classify(getFeatureExtraction(review))\n",
    "    prediction.append((review,classify_result))\n",
    "    validation_test.append(classify_result)"
   ]
  },
  {
   "cell_type": "code",
   "execution_count": 51,
   "metadata": {
    "collapsed": true
   },
   "outputs": [
    {
     "name": "stdout",
     "output_type": "stream",
     "text": [
      "(['muka', 'minyak', 'banget', 'daerah', 'habis', 'bangun', 'tidur', 'muncul', 'bintik', 'merah', 'alias', 'mbruntus', 'kalo', 'orang', 'jawa', 'bilang', 'kalo', 'pake', 'jerawat', 'busa', 'licin', 'banget', 'jatoh', 'k', 'lantai', 'tidak', 'tidak_produk', 'wardah', 'cocok', 'aq'], 'negative')\n",
      "(['gue', 'sempet', 'direkomendasiin', 'temen', 'baca2', 'review', 'kalo', 'facial', 'wash', 'bagus', 'banget', 'kecewa', 'banget', 'minggu', 'pake', 'jerawat', 'gw', 'muncul', 'dimana2', 'muka', 'super', 'oily', 'emang', 'muka', 'gue', 'aja', 'kali', 'ya', 'yg', 'sensitif', 'tp', 'tidak', 'tidak_cocok', 'banget', 'facial', 'wash', 'yg', 'harga', 'ramah', 'bgt', 'kantong'], 'negative')\n",
      "(['nyoba', 'wardah', 'gentle', 'facial', 'wash', 'kali', 'krn', 'facial', 'wash', 'yg', 'dipake', 'lg', 'stock', 'bingung', 'pake', 'tibatiba', 'liat', 'indomaret', 'yaudah', 'coba', 'kali', 'make', 'sih', 'enak', 'kulit', 'kenyal', 'krn', 'mgkn', 'gentle', 'kali', 'make', 'break', 'parah', 'muncul', 'jerawat', 'satusatu', 'kulit', 'kering', 'bagi', 'mulut', 'kirain', 'krn', 'faktor', 'sesuai', 'cuaca', 'krn', 'nyampe', 'kota', 'nyoba', 'pake', 'lg', 'emg', 'bnrbnr', 'tidak', 'tidak_cocok', 'sedih', 'sih', 'krn', 'banyak', 'tmntmn', 'cocok', 'make', 'produk', 'wardah', 'tp', 'emg', 'big', 'sorry', 'say'], 'negative')\n",
      "(['nyobain', 'indomaret', 'facewash', 'habis', 'tulis', 'gentle', 'wash', 'pikir', 'ringan', 'n', 'tidak', 'tidak_bikin', 'kulit', 'kering', 'cobain', 'minggu', 'n', 'hasil', 'cucimuka', 'kulit', 'stretched', 'kering', 'banget', 'udah', 'sminggu', 'flaky', 'hidung', 'inti', 'produk', 'gacocok', 'pro', 'cheap', 'cons', 'drying'], 'negative')\n",
      "(['asa', 'bersih', 'enak', 'aja', 'cuman', 'lama2', 'jerawat', 'paraah', 'muka', 'akuu', 'huhuhuhu', 'yg', 'gasuka', 'bau', 'kayak', 'detergen', 'aja', 'gt', 'ngeringin', 'kuliit', 'asa', 'kesat', 'bgt', 'bersih', 'kulit', 'kesat', 'bgtbaunya', 'krg', 'sukabikin', 'jerawataan'], 'negative')\n",
      "(['wardah', 'emang', 'kenal', 'brand', 'halal', 'murah', 'mudah', 'ditemuin', 'wangi', 'ngakk', 'ganggu', 'bersih', 'karna', 'licin2', 'gitu', 'tapi', 'kalo', 'udah', 'kering', 'kering', 'udah', 'ngak', 'air', 'lg', 'muka', 'iyadehh', 'muka', 'rasa', 'tarik', 'sempet', 'bruntusan', 'repurchase'], 'positive')\n",
      "(['tipe', 'kulit', 'kering', 'pakai', 'facial', 'wash', 'yg', 'gentle', 'pakai', 'yg', 'facial', 'foam', 'dg', 'busa', 'uuhh', 'muka', 'langsung', 'ngelupas', 'kering', 'banget', 'kayak', 'tarik', 'ketemu', 'facial', 'wash', 'giur', 'tulis', 'gentle', 'akhirx', 'coba', 'kecewa', 'gk', 'enak', 'wajah', 'laku', 'licin', 'bruntusan', 'repurchase', 'ofcours', 'pdhl', 'suka', 'produk', 'produk', 'wardah', 'pake', 'produk', 'skin', 'care', 'wardah', 'yg', 'lainx', 'yg', 'kayakx', 'emg', 'gk', 'jodoh'], 'negative')\n",
      "(['feeling', 'facial', 'wash', 'foamnya', 'susah', 'hasil', 'tekstur', 'lembut', 'sih', 'foamnya', 'susah', 'bilas', 'also', 'leaves', 'residue', 'scent', 'also', 'nope', 'efek', 'tidak', 'tidak_kalo', 'cerah', 'tidak', 'tidak_bersih', 'hasil', 'tidak', 'tidak_cocok', 'pake', 'wajah', 'kering', 'sensitif', 'sorry', 'wardah'], 'positive')\n",
      "(['lembut', 'sih', 'ok', 'jg', 'murah', 'cerah', 'g', 'ngefect', 'kulit', 'minyak', 'wajah', 'wuih', 'mrintiss', 'kecil2', 'emang', 'dasar', 'kulit', 'q', 'g', 'pake', 'produk', 'g', 'mo', 'pake'], 'negative')\n",
      "(['ken', 'lepas', 'dr', 'produk', 'dokter', 'gtu', 'stop', 'total', 'wlau', 'cocok', 'kek', 'tarik', 'sma', 'produk', 'wardah', 'jdi', 'beli', 'deh', 'paket', 'yg', 'lightening', 'trmsuk', 'sun', 'protectionnya', 'pakek', 'produk', 'wrdh', 'tidak', 'tidak_pakek', 'dlu', 'kurg', 'biar', 'tidak', 'tidak_kaget', 'muka', 'ku', 'pas', 'udah', 'coba', 'facial', 'wash', 'lightening', 'nya', 'bru', 'pakek', 'muka', 'kek', 'kusam', 'gtu', 'malemnya', 'nongol', 'bintik', 'gtu', 'besok', 'pas', 'bangun', 'muka', 'udah', 'bruntusan', 'bnyak', 'banget', 'muka', 'emg', 'sih', 'produk', 'tu', 'friendly', 'banget', 'harga', 'sayang', 'tidak', 'tidak_cocok'], 'negative')\n",
      "(['ken', 'lepas', 'dr', 'produk', 'dokter', 'gtu', 'stop', 'total', 'wlau', 'cocok', 'kek', 'tarik', 'sma', 'produk', 'wardah', 'jdi', 'beli', 'deh', 'paket', 'yg', 'lightening', 'trmsuk', 'sun', 'protectionnya', 'pakek', 'produk', 'wrdh', 'tidak', 'tidak_pakek', 'dlu', 'kurg', 'biar', 'tidak', 'tidak_kaget', 'muka', 'ku', 'pas', 'udah', 'coba', 'facial', 'wash', 'lightening', 'nya', 'bru', 'pakek', 'muka', 'kek', 'kusam', 'gtu', 'malemnya', 'nongol', 'bintik', 'gtu', 'besok', 'pas', 'bangun', 'muka', 'udah', 'bruntusan', 'bnyak', 'banget', 'muka', 'emg', 'sih', 'produk', 'tu', 'friendly', 'banget', 'harga', 'sayang', 'tidak', 'tidak_cocok'], 'negative')\n",
      "(['tidak', 'tidak_cocok', 'series', 'wardah', 'apa', 'kulit', 'gatel', 'gatel', 'bangett', 'bentol', 'bentol', 'facial', 'wash', 'uda', 'habis', 'cobain', 'wardah', 'tidak', 'tidak_nunggu', 'menit', 'habis', 'bilas', 'langsung', 'gatal', 'gatal', 'ya'], 'negative')\n",
      "(['pake', 'karna', 'facial', 'wash', 'yg', 'udh', 'abis', 'trs', 'pgn', 'coba', 'minggu', 'pakai', 'gpp', 'sih', 'cmn', 'dipake', 'jd', 'ngerasa', 'kering', 'bgt', 'tarik', 'gitu', 'timbul', 'jerawat', 'bruntusan', 'dahi', 'dagu', 'sm', 'pipi'], 'negative')\n",
      "(['udah', 'nyobain', 'produk', 'wardah', 'dd', 'cream', 'facial', 'wash', 'powder', 'nyaa', 'jugaa', 'tapi', 'tidak', 'tidak_make', 'produk', 'produk', 'muka', 'tambaah', 'kusam', 'cuci', 'muka', 'nya', 'ngerasa', 'aja', 'tidak', 'tidak_ngebuat', 'muka', 'asa', 'bersih', 'ringan', 'daan', 'ngerasa', 'muka', 'tidak', 'tidak_ber', 'nutrisi', 'aja', 'gituu', 'udah', 'alih', 'produk', 'well', 'rasa', 'cocok', 'muka', 'kering'], 'positive')\n",
      "(['tidak', 'tidak_berkatakata', 'pakai', 'tiga', 'muncul', 'jerawat', 'besar2', 'wajah', 'jerawat', 'mata', 'cocok', 'krim', 'wardah', 'lightening', 'langsung', 'stoop'], 'negative')\n",
      "(['busa', 'hasil', 'wangi', 'enak', 'tidak', 'tidak_nusuk', 'hidung', 'hasil', 'bilas', 'wajah', 'licin', 'asa', 'tidak', 'tidak_bersih', 'tidak', 'tidak_suka', 'efek', 'bersih', 'muka', 'tinggal', 'efek', 'licin', 'kayak', 'gin'], 'positive')\n",
      "(['penasaran', 'produkproduk', 'wardah', 'liat', 'sepupu', 'ku', 'cocok', 'pake', 'kulit', 'yg', 'jerawat', 'bersih', 'think', 'facial', 'wash', 'pake', 'langsung', 'bruntusan', 'muncul', 'jerawat', 'pake', 'putus', 'stop', 'trus', 'sempet', 'coba', 'penasaran', 'facial', 'wash', 'abis', 'tpi', 'tetep', 'bikin', 'jerawat', 'decided', 'use', 'anymore'], 'negative')\n",
      "(['iseng', 'nyoba', 'sabun', 'sabun', 'muka', 'lg', 'habis', 'cari', 'yg', 'gampang', 'cari', 'aja', 'indomaret', 'trs', 'penasaran', 'krn', 'coba', 'skincare', 'wardah', 'nama', 'emang', 'sabun', 'gentle', 'banget', 'pas', 'dipake', 'sampe', 'takjub', 'saking', 'lembut', 'harga', 'murah', 'situ', 'langsung', 'expect', 'bilas', 'ekspektasik', 'lsg', 'ubah', 'drastis', 'kulit', 'muka', 'kering', 'banget', 'rasa', 'tarik', 'banget', 'bingung', 'jg', 'sih', 'pdhl', 'gentle', 'bgt', 'tp', 'bikin', 'muka', 'kering', 'bgt', 'pake', 'jg', 'muka', 'langsung', 'timbul', 'jerawat', 'beruntus', 'gitu', 'pdhl', 'kulit', 'yg', 'kebal', 'jarang', 'bgt', 'lsg', 'jerawat', 'gt', 'nyobain', 'produk', 'yg', 'tidak', 'tidak_cocok', 'situ', 'lsg', 'stop', 'pakai', 'krn', 'takut', 'kl', 'diterusin', 'parah'], 'negative')\n",
      "(['pakai', 'wardah', 'lightening', 'gentlewash', 'rangkai', 'paket', 'ringan', 'wajah', 'tidak', 'tidak_bikin', 'kering', 'wajah', 'lumayan', 'bersihin', 'wajah', 'like', 'harga', 'murah', 'riah', 'susah', 'didibusain', 'plussuka', 'jatuh', 'tangan'], 'positive')\n",
      "(['suka', 'product', 'aroma', 'jeruk', 'yg', 'tajam', 'wangi', 'mobil', 'buat', 'nyaman', 'pakai', 'kulit', 'jenis', 'kombinasi', 'langsung', 'break', 'hidung', 'henti', 'pakai', 'lebih', 'produk', 'murah', 'repurchase'], 'positive')\n",
      "(['tidak_totally', 'ekspektasi', 'fw', 'first', 'dont', 'like', 'fragrance', 'second', 'dont', 'like', 'texture', 'third', 'dont', 'like', 'way', 'makes', 'face', 'bo', 'tidak', 'tidak_banget', 'harga', 'aja', 'diacungin', 'jempol', 'ya', 'tidak', 'tidak_pake', 'habis', 'habis', 'aja', 'tidak'], 'positive')\n",
      "(['hasil', 'pakai', 'produk', 'kulit', 'bener2', 'kering', 'tarik', 'banget', 'butir', 'scrub', 'nya', 'parfume', 'nya', 'sengat', 'g', 'recomen', 'orang', 'yg', 'hindar', 'skin', 'care', 'parfum', 'warna', 'kasat', 'mata', 'scrub', 'nya', 'warna', 'biru', 'muda', 'overall', 'suka', 'produk'], 'positive')\n",
      "(['facial', 'wash', 'yg', 'bikin', 'wajah', 'bruntusan', 'tidak', 'tidak_sedih', 'beli', 'cocok', 'pake', 'cleansing', 'milk', 'n', 'toner', 'nya', 'pas', 'pake', 'facial', 'wash', 'nya', 'break', 'tidak', 'tidak_nyadar', 'kalo', 'break', 'nya', 'grgr', 'facial', 'wash', 'pas', 'baca', 'komposisi', 'nya', 'licorice', 'extract', 'nya', 'baris', 'means', 'kandung', 'claim', 'nya', 'ngunggulin', 'si', 'licorice', 'extract', 'urutam', 'awal2', 'yg', 'bahan2', 'kimia', 'sabun', 'sedih', 'totally', 'would', 'repurchase'], 'negative')\n",
      "(['beli', 'produk', 'kaya', 'ninggalin', 'minyak', 'foamy', 'worst'], 'negative')\n",
      "(['warna', 'facial', 'washnya', 'putih', 'busa', 'hasil', 'lembut', 'tidak', 'tidak_pakai', 'facial', 'wash', 'kulit', 'tidak', 'tidak_kering', 'kesat', 'lembap', 'bikin', 'kulit', 'supple', 'pakai', 'tidak', 'tidak_rasa', 'wajah', 'cerah', 'pakai', 'serangakian', 'cream', 'ya', 'muncul', 'jerawat', 'putus', 'tidak', 'tidak_maka'], 'positive')\n",
      "(['gegara', 'lupa', 'bawa', 'cleanser', 'yg', 'dipake', 'jdnya', 'nyoba', 'beli', 'minimarket', 'dekat', 'pas', 'coba', 'emang', 'lembut', 'bgt', 'soft', 'sampe', 'bikin', 'ngerasa', 'kalo', 'kulit', 'bersih', 'kulit', 'dry', 'sensitive', 'cocok', 'oily', 'skin', 'like', 'fail', 'choice', 'foamnya', 'tidak', 'tidak_jd', 'angkat', 'sel', 'kulit', 'mati', 'wajah'], 'positive')\n",
      "(['tidak', 'tidak_suka', 'produk', 'licin2', 'gitu', 'udah', 'bilas', 'kali', 'kali', 'bikin', 'tidak', 'tidak_nyaman', 'wangi', 'kuat', 'banget', 'efek', 'cerah', 'tidak', 'tidak_liat', 'ngebersihin', 'sisa', 'makeup', 'efektif', 'tidak', 'tidak_deh'], 'positive')\n",
      "(['kali', 'nyoba', 'face', 'wash', 'suka', 'efek', 'pakai', 'langsung', 'cerah', 'poriporiku', 'liat', 'kecil', 'suka', 'wajah', 'kesat', 'banget', 'drying', 'kalo', 'suhu', 'udara', 'dingin', 'kulit', 'ketariktarik', 'ajar', 'sanasini', 'tau', 'kalo', 'ingredient', 'nama', 'sls', 'ngasi', 'efek', 'kering', 'kesat', 'garagara', 'kering', 'muka', 'oily', 'gampang', 'minyak', 'jam', 'minyak', 'buanyak', 'cobain', 'versi', 'foam', 'kesat', 'ketarik2', 'nya', 'parah', 'repurchase', 'big'], 'positive')\n",
      "(['pakai', 'kakak', 'cocok', 'neng', 'banget', 'nyobain', 'kosmetik', 'halal', 'murah', 'gampang', 'dapet', 'produk', 'tidak', 'tidak_cocok', 'kulit', 'minyak', 'bikin', 'jerawat', 'efek', 'kayak', 'licin', 'bilas', 'gitu', 'mgkn', 'cocok', 'kulit', 'kering', 'serasa', 'melembabkan'], 'positive')\n",
      "(['pake', 'gara2', 'facial', 'wash', 'rumah', 'abis', 'si', 'jual', 'claim', 'bagus', 'banget', 'yaudahlah', 'coba', 'aja', 'pakai', 'pas', 'awalawal', 'asa', 'kulit', 'cerah', 'pakai', 'bikin', 'breakout', 'parahh', 'pikir', 'efek', 'purging', 'yaudah', 'sabar', 'nunggu', 'sampe', 'reda', 'lanjutin', 'emang', 'kacau', 'bangett', 'tidak', 'tidak_deh', 'pake', 'produk', 'kapok'], 'negative')\n",
      "(['tidak_pikir', 'produk', 'wardah', 'bagus', 'alhasil', 'cobain', 'deh', 'yg', 'sayang', 'tidak', 'tidak_cocok', 'kulit', 'wajah', 'pakai', 'kusam', 'gt', 'tidak', 'tidak_bgt', 'deh', 'pokok', 'pdhl', 'lihat', 'review', 'yg', 'bagus', 'tidak'], 'negative')\n",
      "(['suka', 'produk', 'wardah', 'khusus', 'sabun', 'muka', 'pas', 'sabun', 'muka', 'dokter', 'habis', 'tidak', 'tidak_candu', 'sabun', 'wajah', 'dokter', 'langsung', 'coba', 'sabun', 'muka', 'pas', 'pakai', 'mama', 'muka', 'beliau', 'tidak', 'tidak_kenapakenapa', 'pakai', 'bruntusan', 'hilang', 'pakai', 'lamalama', 'alih', 'sabun', 'muka', 'sabun', 'muka', 'muka', 'merah', 'gatal', 'banget', 'tidak', 'tidak_tau', 'muka', 'salah', 'produk', 'emang', 'udah', 'kembang', 'tidak', 'tidak_cocok', 'aku', 'repurchase'], 'negative')\n",
      "(['love', 'cleanser', 'udah', 'repurchase', 'berkali2', 'hasil', 'ya', 'ngegbersihin', 'kulit', 'tidak', 'tidak_bikin', 'kering', 'gentle', 'bgt', 'jerawat', 'dsb', 'tidak', 'tidak_pengaruh', 'jerawat', 'sm', 'komedo', 'sih', 'tidak', 'tidak_nambah', 'stock', 'rmh', 'blm', 'repurchase', 'lg', 'ken', 'coba', 'cleanser', 'hehe', 'overall', 'good'], 'positive')\n",
      "(['gue', 'pake', 'facial', 'wash', 'dokter', 'khusus', 'nanganin', 'jerawat', 'gue', 'yg', 'alhamdulillah', 'udah', 'lumayan', 'bersih', 'nyoba', 'gue', 'habis', 'facial', 'wash', 'dokter', 'gue', 'nyoba', 'pake', 'acnes', 'adek', 'gue', 'surprisingly', 'gue', 'facial', 'wash', 'jerawat', 'bikin', 'kulit', 'kering', 'bener2', 'netral', 'efek', 'kulit', 'seger', 'tetep', 'lembab', 'produk', 'ngatasin', 'jerawat', 'gue', 'sih', 'tidak', 'tidak_treatment', 'jerawat', 'tidak', 'tidak_bersih', 'muka', 'rangkai', 'awat', 'ubah', 'pola', 'hidup', 'acnes', 'fungsi', 'bersih', 'muka', 'udah', 'cocok', 'pakai', 'daily', 'hasil', 'gue', 'sih', 'jerawat', 'jarang', 'muncul', 'oiya', 'facial', 'wash', 'enak', 'banget', 'bersihin', 'make', 'ulang', 'kali', 'bersihin', 'muka', 'langsung', 'bersih', 'deh', 'residu2', 'make', 'nempel'], 'positive')\n",
      "(['favoritt', 'sesuai', 'nama', 'tekstur', 'creamy', 'pakai', 'wajah', 'tangan', 'tidak', 'tidak_basah', 'tidak', 'tidak_busa', 'lengket', 'lengket', 'effectnya', 'sukaa', 'ngeringin', 'muka', 'minim', 'banget', 'tidak', 'tidak_bikin', 'wajah', 'keset', 'tube', 'utk', 'ukur', 'sayang', 'varian', 'harga', 'supermarket', 'ukur', 'yg', 'kadang', 'eh', 'nemu', 'harga'], 'positive')\n",
      "(['suka', 'banget', 'cobacoba', 'produk', 'produk', 'salah', 'coba', 'hehe', 'penasaran', 'sih', 'review', 'positif', 'pakai', 'minggu', 'wajah', 'ku', 'bersih', 'tidak', 'tidak_bikin', 'iritasi', 'bruntusan', 'harga', 'murah', 'bangett'], 'positive')\n",
      "(['facial', 'wash', 'salah', 'selamat', 'breakout', 'fyi', 'kulit', 'wajah', 'kombinasi', 'hidung', 'super', 'sensitif', 'rentan', 'kering', 'kelupas', 'facial', 'wash', 'claim', 'reda', 'jerawat', 'bikin', 'kering', 'tidak', 'tidak_jerawat', 'cepet', 'kempes', 'kering', 'aman', 'wangi', 'segar', 'tidak', 'tidak_ganggu'], 'positive')\n",
      "(['face', 'wash', 'kulit', 'normal', 'sdgkn', 'satu', 'ya', 'acnes', 'pake', 'pas', 'jerawatn', 'sih', 'face', 'wash', 'tp', 'jerawat', 'tidak', 'tidak_ilang2', 'jd', 'bilah', 'dgn', 'kmasan', 'yg', 'pake', 'nyadar', 'kalo', 'jg', 'produk', 'keluar', 'dr', 'rohto', 'dgn', 'hada', 'labo', 'ku', 'pake', 'asa', 'kulit', 'jd', 'bersih', 'tidak', 'tidak_mngandung', 'sls', 'tp', 'bingung', 'aja', 'pake', 'pas', 'dbilas', 'mnimbulkn', 'kesan', 'kesat', 'tp', 'lembab', 'tidak', 'tidak_kering', 'pdhl', 'tidak', 'tidak_sls', 'tp', 'kesat', 'lepas', 'dr', 'kesat', 'sls', 'produk', 'ok', 'utk', 'jerawat', 'cepat', 'kempes', 'ketimbang', 'tidak', 'tidak_pakein', 'obt', 'jerawat', 'trs', 'bau', 'enak', 'sih', 'mnrt', 'kaya', 'jeruk', 'nipis', 'gt', 'mnyegarkn', 'cuci', 'muka', 'efektif', 'bgt', 'mnurutku', 'bgi', 'yg', 'brjerawat', 'jdinya', 'mmbuat', 'jerawat', 'cepat', 'kering', 'minggat', 'dr', 'wajah', 'tnpa', 'mnimbulkn', 'kesan', 'tarik', 'wajah', 'oh', 'iya', 'rekomendasiin', 'siswa', 'yg', 'jerawat', 'tidak', 'tidak_hilang2', 'dr', 'kls', 'smpe', 'skrg', 'kls', 'cepat', 'kering', 'jerawat', 'lihat', 'sih', 'mmg', 'jerawat', 'cpt', 'kering', 'merah2', 'dmukanya', 'brkurang', 'skrg', 'mmfavoritkn', 'su', 'acnes', 'jdi', 'suka', 'produk', 'yg', 'plg', 'acnes', 'bs', 'ddapat', 'dmn', 'aja', 'tidak', 'tidak_susah', 'nyarinya', 'recomended', 'bgt', 'deh'], 'negative')\n",
      "(['far', 'pake', 'yaa', 'superbb', 'bagus', 'gara2nya', 'lupa', 'bawa', 'sabun', 'muka', 'merk', 'ysl', 'pake', 'pnya', 'sodaraku', 'pikir', 'acnes', 'brand', 'usa', 'karna', 'sodaraku', 'stay', 'us', 'eh', 'ternyataa', 'sodaraku', 'yg', 'stay', 'indo', 'tidak', 'tidak_pake', 'tidak', 'tidak_karna', 'tidak', 'tidak_tau', 'merknya', 'kondisi', 'lg', 'jerawat', 'gede', 'gede', 'biji', 'iseng', 'pake', 'dann', 'surprisingly', 'besok', 'pas', 'bangun', 'jerawat', 'kempes', 'sabun', 'si', 'ysl', 'tidak', 'tidak_bias', 'kempesin', 'jerawat', 'even', 'hr', 'lgsg', 'beli', 'guardian', 'emg', 'murah', 'bngt', 'sodara', 'beli', 'yg', 'ukur', 'gede', 'cost', 'sampe', 'skarang', 'pake', 'ni', 'jelang', 'period', 'gin', 'suka', 'muncul', 'jerawat', 'pms', 'sampe', 'skarang', 'jerawat', 'muncul', 'cocok', 'acnes', 'krn', 'wangi', 'fresh', 'tidak', 'tidak_bikin', 'kulit', 'kering', 'ngerasa', 'kulit', 'lembut', 'n', 'cegah', 'timbul', 'jerawat', 'banget', 'krn', 'kulit', 'yg', 'oily', 'tinggal', 'bekas2', 'jerawat', 'yg', 'bandel', 'bngt', 'tidak', 'tidak_ilang', 'tau', 'obat', 'yg', 'bagus', 'ngilangin', 'bekas', 'jerawat'], 'negative')\n",
      "(['udah', 'pake', 'love', 'kali', 'pake', 'pas', 'sma', 'lg', 'bruntusan', 'bgt', 'jidat', 'muka', 'kusam', 'liat', 'temen', 'make', 'bilang', 'ampuh', 'ilangin', 'bruntusan', 'jdi', 'goda', 'eh', 'bener', 'minggu', 'si', 'bruntusan', 'udh', 'jinak', 'ngerasa', 'kulit', 'wajah', 'jdi', 'supple', 'cerah', 'tipe', 'kulit', 'kering', 'pake', 'wajah', 'jdi', 'lembab', 'googling', 'kandung', 'bener', 'bener', 'natural', 'affordable', 'price', 'ngebuktiinnya', 'liat', 'tube', 'kalo', 'strip', 'vertikal', 'warna', 'ijo', 'kandung', 'alami', 'ingredient', 'nya', 'jga', 'tidak', 'tidak_sls', 'paraben', 'kalo', 'facewash', 'bentuk', 'tube', 'belakang', 'garis', 'vertikal', 'hitam', 'tanda', 'kandung', 'bahan', 'kimia'], 'positive')\n",
      "(['salah', 'produk', 'face', 'cleanser', 'baik', 'indonesia', 'bikin', 'muka', 'bersih', 'bikin', 'jerawat', 'lumayan', 'kurang', 'tidak', 'tidak_hilang', 'tidak', 'tidak_bruntusan', 'masalah', 'komedo', 'poripori', 'paling', 'face', 'cleanser', 'great', 'product'], 'positive')\n",
      "(['tidak', 'tidak_deh', 'ngegantiin', 'acnes', 'facial', 'wash', 'creamy', 'wash', 'bersih', 'wajah', 'gue', 'gue', 'tau', 'acnes', 'salah', 'beauty', 'vlogger', 'indonesia', 'abel', 'cantika', 'gue', 'tualang', 'cari', 'bersih', 'wajah', 'cocok', 'langsung', 'beli', 'deh', 'abis', 'direkomen', 'abel', 'gue', 'beli', 'botol', 'takut', 'tidak', 'tidak_cocok', 'pas', 'coba', 'surprisingly', 'works', 'cerita', 'gue', 'pake', 'bersih', 'wajah', 'inisial', 'warna', 'pink', 'jujur', 'aja', 'bersih', 'bikin', 'muka', 'gue', 'kering', 'banget', 'gue', 'udah', 'coba', 'merek', 'tetep', 'tidak', 'tidak_wajah', 'gue', 'lembab', 'kayak', 'gue', 'pake', 'acnes', 'kemas', 'creamy', 'wash', 'khas', 'acnes', 'gitu', 'hijau', 'putih', 'tekstur', 'creamy', 'warna', 'putih', 'kuning', 'aroma', 'lemon', 'oia', 'creamy', 'acnes', 'original', 'padet', 'pas', 'cuci', 'muka', 'gue', 'taruh', 'tang', 'kasih', 'air', 'usap2', 'busa', 'barudeh', 'sabunin', 'muka', 'kena', 'mata', 'jujur', 'aja', 'periih', 'banget', 'terkadang', 'mata', 'gue', 'suka', 'merah', 'kena', 'abis', 'kelar', 'cuci', 'muka', 'hasil', 'lembut', 'fresh', 'banget', 'pinggir', 'hidung', 'gue', 'suka', 'ngekletek', 'kering', 'gitu', 'pas', 'pakai', 'acnes', 'hilang', 'sumpah', 'keringkering', 'oia', 'tambah', 'formula', 'ngilangin', 'multifungsi', 'udah', 'tidak', 'tidak_bikin', 'kering', 'jerawat', 'hilang', 'hehe', 'udah', 'repurchase', 'habis', 'gue', 'beli', 'gue', 'affordable', 'price', 'beli', 'minimarket', 'mana', 'alfamart', 'indomart', 'adaa', 'wangi', 'lemon', 'bikin', 'ken', 'cuci', 'muka', 'lembut', 'tidak', 'tidak_bikin', 'kering', 'ampuh', 'hilang', 'jerawat', 'kena', 'mata', 'perih'], 'positive')\n",
      "(['face', 'wash', 'andal', 'kalo', 'jerawat', 'muncul', 'produk2', 'formula', 'khusus', 'jerawat', 'acnes', 'cocok', 'varian', 'original', 'tekstur', 'benar2', 'creamy', 'warna', 'putih', 'susu', 'hemat', 'tuang', 'produk', 'busa', 'segi', 'harga', 'jangkau', 'potong', 'harga', 'benar2', 'pilih', 'isi', 'dompet', 'pakai', 'wajah', 'langsung', 'minyak', 'lebih', 'ering', 'jerawat', 'pakai', 'lanjut', 'repurchase'], 'positive')\n",
      "(['produk', 'udah', 'direpurchase', 'banget', 'make', 'produk', 'muka', 'tuh', 'ilang', 'asa', 'bersih', 'banget', 'bentuk', 'creamy', 'butiranbutirannya', 'halus', 'tidak', 'tidak_bikin', 'kegoresgores', 'sabun', 'muka', 'emang', 'bagus', 'banget', 'kulit', 'sensitif', 'jerawat', 'kayak'], 'positive')\n",
      "(['kulit', 'normal', 'cenderung', 'kering', 'sih', 'tidak', 'tidak_bikin', 'kering', 'ya', 'emang', 'bikin', 'kering', 'sih', 'tp', 'tidak', 'tidak_awal2', 'pake', 'kit', 'langsung', 'cerah', 'gitu', 'sekarang2', 'udah', 'tidak', 'tidak_krn', 'udah', 'tidak', 'tidak_mempan', 'kali', 'ya', 'hahaha', 'tp', 'enak', 'sih', 'pake', 'asa', 'bersih', 'trus', 'tidak', 'tidak_bikin', 'kulit', 'abis', 'alih', 'sabun', 'dokter', 'kenapa2', 'not', 'tidak', 'tidak_gampang', 'jerawat', 'alhamdulillah', 'pos'], 'positive')\n",
      "(['hg', 'faical', 'wash', 'kadang', 'jerawat', 'muncul', 'kalo', 'stress', 'pms', 'acnes', 'creamy', 'wash', 'deep', 'pore', 'cleanser', 'ngebantu', 'banget', 'ngurangin', 'bruntusankuu', 'facial', 'wash', 'ku', 'yg', 'cocok', 'nih', 'exfoliating', 'cleansing', 'scrub', 'erha', 'varian', 'fw', 'acnes', 'sukaa'], 'positive')\n",
      "(['produk', 'wajib', 'pakai', 'acnes', 'creamy', 'wash', 'jerawat', 'jarang', 'muncul', 'haid', 'jerawat', 'skrg', 'udah', 'pakai', 'tidak', 'tidak_kulit', 'kering', 'gitu', 'keset', 'lembab', 'gitu', 'pokok', 'suka', 'banget'], 'positive')\n",
      "(['udah', 'berkalikali', 'nyobain', 'facialwash', 'mahal', 'tetep', 'produk', 'emang', 'muka', 'ekonomis', 'bgt', 'yaa', 'tetep', 'cocok', 'muka', 'masalah', 'kulit', 'atas', 'emang', 'tidak', 'tidak_cerah', 'sih', 'ngebersihin', 'love', 'deh'], 'positive')\n",
      "(['love', 'suka', 'banget', 'wangi', 'lemon', 'tekstur', 'creamy', 'nya', 'busa', 'nya', 'banget', 'worth', 'try', 'masalah', 'jerawat', 'kulit', 'minyak', 'bikin', 'bersih', 'beneran', 'repurchase'], 'positive')\n",
      "(['love', 'acnes', 'treatment', 'series', 'indeed', 'kemaren', 'sempet', 'galau', 'gara2', 'jerawat', 'tidak', 'tidak_beres', 'beres', 'pake', 'sabun', 'cuci', 'muka', 'mahal', 'bikin', 'jerawat', 'parah', 'pas', 'pake', 'jerawat', 'ngecilin', 'tinggal', 'sisa', 'sisa', 'aja', 'harga', 'murah', 'heheeh'], 'negative')\n",
      "(['mantap', 'jaya', 'banget', 'coba', 'bulan', 'hasil', 'udah', 'pas', 'guna', 'konsisten', 'sampe', 'alhasil', 'jerawat', 'kecilkecilku', 'kurang', 'banget', 'jidat', 'tuh', 'udah', 'kaya', 'taman', 'jerawat', 'udah', 'tinggal', 'doang', 'pokok', 'top', 'banget', 'andal'], 'positive')\n",
      "(['bagus', 'bgt', 'meskkipun', 'murah', 'hasil', 'tidak', 'tidak_main', 'main', 'loh', 'jerawat', 'gampang', 'hilang', 'pake', 'efek', 'cerah', 'jg', 'hehehe', 'pori', 'pori', 'komedo', 'bagus', 'ya', 'hehehe', 'kulit', 'jerawat', 'ringan', 'pake', 'aja', 'deh', 'murah', 'trus', 'ringan', 'gitu', 'jd', 'takut', 'efek', 'aneh2'], 'positive')\n",
      "(['pakai', 'acnes', 'kulit', 'kusam', 'tidak', 'tidak_awat', 'berntusan', 'jidat', 'pas', 'pakai', 'kulit', 'merahmerah', 'gatel', 'berharihari', 'jerawat', 'kering', 'gitu', 'pakai', 'tahun', 'kondisi', 'gatelgatel', 'jerawat', 'nambah', 'pipi', 'beruntus', 'pindah', 'pakai', 'produk', 'alih', 'produk', 'salah', 'ngambilnya', 'cream', 'dikeluarin', 'titik', 'aja', 'dgn', 'diameter', 'angsur', 'angsur', 'jerawat', 'jidat', 'pipi', 'hilang', 'yeay', 'juang', 'hilang', 'bekas'], 'negative')\n",
      "(['hg', 'pake', 'jaman', 'lupa', 'udah', 'ngabisin', 'berpuluhpuluh', 'tube', 'kayak', 'nemu', 'fw', 'tanding', 'fw', 'acnes', 'hahaha', 'muncul', 'jerawat', 'udah', 'wajib', 'rajin', 'bersihin', 'muka', 'pake', 'kalo', 'rajin', 'deh', 'totol', 'pake', 'acnes', 'aling', 'gel', 'taraa', 'tidak', 'tidak_minggu', 'udah', 'mulus', 'kalo', 'pake', 'fw', 'suka', 'bruntusan', 'pake', 'fw', 'acnes', 'adem', 'ayem', 'kulit', 'wajah', 'tidak', 'tidak_pindah'], 'positive')\n",
      "(['udah', 'tahun', 'pakai', 'creamy', 'wash', 'acnes', 'cocok', 'banget', 'tipe', 'muka', 'jerawat', 'parah', 'aktifitas', 'outdoor', 'dapet', 'jerawat', 'nongol', 'dahi', 'sampe', 'bruntusan', 'pake', 'tidak', 'tidak_jerawat', 'pake', 'dikit', 'udah', 'busa', 'awet', 'tekstur', 'lembut', 'gabikin', 'muka', 'kenceng'], 'negative')\n",
      "(['ganti', 'facial', 'foam', 'ku', 'acnes', 'obat', 'jerawat', 'dr', 'kun', 'dr', 'kun', 'harus', 'sabun', 'muka', 'bebeas', 'sulfur', 'scrub', 'ken', 'hemat', 'tidak', 'tidak_beli', 'sabun', 'muka', 'beliau', 'langsung', 'supermarket', 'cari', 'sabun', 'muka', 'baca', 'label', 'sabun', 'muka', 'satu', 'pilih', 'acnes', 'tidak', 'tidak_kandung', 'sulfur', 'tidak', 'tidak_sulfut', 'sulfat', 'sulfida', 'acnes', 'line', 'untuk', 'yg', 'jerawat', 'suka', 'sih', 'pakai', 'muka', 'bersih', 'kesat', 'lembut', 'wajah', 'wangi', 'lembut', 'alergi', 'bebauan', 'yg', 'tajam', 'muka', 'tidak', 'tidak_gampang', 'jerawat', 'bantu', 'samar', 'nodanoda', 'bekas', 'jerawat', 'yg', 'kering', 'akibat', 'obat', 'dr', 'kun', 'far', 'udah', 'pakai', 'pakai', 'sabun', 'muka'], 'positive')\n",
      "(['gue', 'sih', 'sabun', 'muka', 'udah', 'penuh', 'u', 'need', 'facial', 'wash', 'udahanya', 'tidak', 'tidak_bikin', 'kulit', 'kering', 'jerawat', 'cepet', 'ilang', 'sabun', 'ekspektasi', 'tau', 'gue', 'yah', 'bentuk', 'varian', 'facial', 'foamnya', 'yah', 'badan', 'foam', 'udah', 'coba', 'cocok'], 'positive')\n",
      "(['cobain', 'kemarin2', 'sih', 'beli', 'gara2', 'liat', 'cleansing', 'foam', 'nya', 'sunnydahye', 'wkwk', 'gatau', 'jd', 'pngen', 'coba', 'hubung', 'wajah', 'lg', 'jerawat', 'wktu', 'ittu', 'pke', 'dri', 'brand', 'korea', 'face', 'shop', 'yg', 'trouble', 'skin', 'gtu', 'yg', 'warna', 'orange', 'coklat', 'gada', 'ubah', 'asa', 'bersih', 'gtu', 'pdhal', 'harga', 'turut', 'ya', 'lumayan', 'coba', 'gw', 'produk', 'hasil', 'sih', 'jerawat', 'kempes', 'smua', 'cerah', 'gtu', 'kulit', 'tidak', 'tidak_minyak', 'banget', 'kaya', 'baling', 'zone', 'gtu', 'suka', 'sm', 'produk', 'smoga', 'aja', 'cocok', 'trs', 'smpe', 'ntar', 'ntar', 'wkwkkw'], 'negative')\n",
      "(['tidak_jerawat', 'daerah', 'pipi', 'kening', 'coba', 'product', 'anti', 'jerawat', 'tidak', 'tidak_mempan', 'kulit', 'merahmerah', 'sensitif', 'jumpa', 'acnes', 'creamy', 'wash', 'cari', 'tarik', 'iklan', 'tv', 'coba', 'hasil', 'kejut', 'jerawat', 'kurang', 'wajah', 'bersih', 'udah', 'tidak', 'tidak_ganti', 'facial', 'wash', 'atas', 'jerawat', 'wajah', 'udah', 'percaya', 'banget', 'product', 'yg', 'yg', 'jerawat', 'langsung', 'aja', 'cobain', 'acnes', 'creamy', 'wash', 'butuh', 'hasil', 'maksimal', 'cantik', 'tidak'], 'positive')\n",
      "(['orang', 'gara2', 'facial', 'wash', 'aja', 'bikin', 'jerawat', 'iseng2', 'nyoba', 'acnes', 'facial', 'wash', 'fighting', 'acne', 'yaa', 'work', 'tidak', 'tidak_ampuh', 'facial', 'wash', 'tidak', 'tidak_bikin', 'jerawat', 'nambah', 'maybe', 'ngurangi', 'jerawat', 'cuci', 'muka', 'lumayan', 'suka', 'keset', 'tidak', 'tidak_bikin', 'kering', 'tarik', 'facial', 'wash', 'acne', 'gabisa', 'kasih', 'hasil', 'kurang', 'overall', 'suka', 'harga', 'murah', 'riah', 'jangkau', 'facial', 'wash', 'hasil', 'nyata', 'thankyou', 'acnes', 'beli', 'facial', 'wash', 'kali', 'belanja', 'drugstore', 'lol'], 'positive')\n",
      "(['jerawat', 'banget', 'stres', 'produk', 'tidak', 'tidak_ngilangin', 'jerawat', 'coba', 'beli', 'produk', 'hasil', 'benerbener', 'bagus', 'kirakira', 'minggu', 'pakai', 'aja', 'udah', 'liat', 'banget', 'hasil', 'jerawatjerawat', 'muka', 'kecilkecil', 'hilang', 'acnes', 'produk', 'acne', 'care', 'baik', 'coba'], 'negative')\n",
      "(['udah', 'kayak', 'facial', 'wash', 'tidak', 'tidak_tidak', 'tidak_ganti', 'bener2', 'bantu', 'lawan', 'jerawat', 'kemas', 'warna', 'hijau', 'putih', 'lumayan', 'haha', 'udah', 'pake', 'tahun', 'udah', 'jatuh', 'cinta', 'tidak', 'tidak_ken', 'ganti2', 'worth', 'buy', 'banget', 'pos'], 'positive')\n",
      "(['bener2', 'face', 'wash', 'favorit', 'muka', 'penuh', 'jerawat', 'abis', 'pake', 'krim', 'gajebo', 'direkomendasiin', 'temen', 'pake', 'hasil', 'kulit', 'berangsur2', 'pulih', 'baik', 'kulit', 'tinggal', 'bruntusan', 'kecil2nya', 'aja', 'hilang', 'coba', 'yamg', 'acnes', 'foaming', 'wash', 'really', 'recommend', 'product'], 'negative')\n",
      "(['cocok', 'banget', 'kulit', 'cenderung', 'normal', 'minyak', 'murah', 'banget', 'hasil', 'muas', 'beli', 'tahun', 'cobacoba', 'ehh', 'cocok', 'ku', 'susah', 'hilang', 'komedo', 'pakai', 'acnes', 'creamy', 'komedo', 'ku', 'tidak', 'tidak_muncul'], 'positive')\n",
      "(['best', 'facial', 'wash', 'ive', 'ever', 'tried', 'far', 'uda', 'coba', 'facial', 'wash', 'yg', 'drug', 'store', 'khusus', 'dokter', 'spesialis', 'kulit', 'highend', 'dgn', 'harga', 'fantastis', 'yg', 'pesan', 'swiss', 'jajah', 'tidak', 'tidak_kembang', 'yg', 'signifikan', 'acnes', 'creamy', 'wash', 'yg', 'hasil', 'nyata', 'pakai', 'nampak', 'hasil', 'jerawat', 'sebum', 'komedo', 'lgsg', 'kurang', 'istilah', 'harga', 'kualitas', 'tidak', 'tidak_acnes', 'murah', 'tidak', 'tidak_murah', 'repurchase', 'yes'], 'positive')\n",
      "(['udah', 'gonta', 'ganti', 'facewash', 'henti', 'acnes', 'creamy', 'wash', 'suka', 'banget', 'pakai', 'asa', 'bersih', 'aja', 'gitu', 'muka', 'abis', 'bilas', 'keset', 'gitu', 'ya', 'yg', 'bilang', 'produk', 'bikin', 'kulit', 'tarik', 'syukur', 'tidak', 'tidak_narik', 'kulit', 'heheaku', 'tidak', 'tidak_ber', 'ekspektasi', 'ilangin', 'jerawat', 'singkat', 'sih', 'jerawat', 'tidak', 'tidak_nambah', 'tidak', 'tidak_bikin', 'kulit', 'kusam', 'aja', 'udah', 'neng', 'banget', 'overall', 'suka', 'produk', 'udah', 'repurchase', 'x'], 'positive')\n",
      "(['gue', 'ganti', 'niat', 'ngatasin', 'jerawat', 'pipi', 'eeh', 'muncul', 'jerawat', 'kecilkecil', 'jidat', 'pake', 'minggu', 'gue', 'pikir', 'emang', 'gitu', 'breakout', 'gue', 'pakein', 'sampe', 'minggu', 'muka', 'gue', 'alergi', 'gitu', 'merah2', 'muncul', 'dry', 'patches', 'gatel', 'muka', 'gue', 'tidak', 'tidak_alergi', 'tipe', 'pas', 'abis', 'cuci', 'muka', 'enak', 'banget', 'enteng', 'walhasil', 'produk', 'nangkring', 'gada', 'make', 'rumah'], 'negative')\n",
      "(['kulit', 'oily', 'acne', 'prone', 'pakai', 'produk', 'jadi', 'kulit', 'kering', 'ketariktarik', 'hari', 'pakai', 'langsung', 'stop', 'produk', 'acnes', 'yg', 'jerawat', 'tidak', 'tidak_yg', 'cocok', 'tp', 'utk', 'yg', 'paper', 'face', 'setiabsaya', 'beli'], 'negative')\n",
      "(['super', 'tidak', 'tidak_cocok', 'muka', 'ku', 'kering', 'liat', 'kusem', 'muka', 'ku', 'super', 'oily', 'harga', 'kualitas', 'sih', 'hehe', 'beli', 'karna', 'urgent', 'facewash', 'habis', 'tidak', 'tidak_sempet', 'store', 'nya', 'vit', 'c', 'e', 'nya', 'tidak', 'tidak_rasa', 'hasil', 'wajah', 'jerawat', 'tidak', 'tidak_ngaruh', 'hitam', 'gitu', 'jerawat', 'pake', 'tinggal', 'paksa', 'tidak', 'tidak_pke', 'tidak', 'tidak_ngerasa', 'kulit', 'halus', 'pake', 'enak', 'texturenya', 'pegang', 'hehe', 'karna', 'cocok', 'kulit', 'sensitiveoily'], 'negative')\n",
      "(['pas', 'gw', 'lg', 'dapet', 'jerawat', 'gw', 'putus', 'beli', 'pas', 'gw', 'pake', 'jerawat', 'pipi', 'gw', 'stres', 'parah', 'bego', 'gw', 'tidak', 'tidak_sadar', 'kalo', 'yg', 'bikin', 'jerawat', 'gw', 'wkwk', 'stop', 'pake', 'tidak', 'tidak_beli', 'bye', 'deh'], 'negative')\n",
      "(['pakai', 'face', 'wash', 'baca', 'review', 'face', 'wash', 'bagus', 'kulit', 'oily', 'giur', 'tidak', 'tidak_cocok', 'pakai', 'face', 'kening', 'timbul', 'beruntus', 'coba', 'pakai', 'pake', 'face', 'wash', 'shinzui', 'beruntus', 'kening', 'hilang'], 'negative')\n",
      "(['salah', 'product', 'acnes', 'tidak', 'tidak_bagus', 'turut', 'doesnt', 'affect', 'pimples', 'nyobain', 'karna', 'lumayan', 'youtuber', 'pake', 'ngatasin', 'jerawat', 'ngerekomendasiin', 'product', 'ya', 'tidak', 'tidak_ngefek', 'udah', 'habis', 'kemas', 'gitu'], 'negative')\n",
      "(['pas', 'nyobanyoba', 'facial', 'wash', 'kulit', 'minyak', 'dapet', 'rekomendasi', 'suruh', 'pake', 'acne', 'facial', 'foam', 'pas', 'kali', 'make', 'kulit', 'wajah', 'emang', 'bersih', 'keset', 'gitu', 'wajah', 'bruntusan', 'henti', 'deh', 'sayang', 'tidak', 'tidak_cocok', 'kulit', 'minyak', 'kayak', 'tulis', 'produk', 'kulit', 'minyak'], 'negative')\n",
      "(['tidak', 'tidak_cocok', 'kulit', 'rata2', 'orang', 'nyaranin', 'pake', 'karna', 'ampuh', 'ngilangin', 'jerawat', 'pas', 'pake', 'merah', 'merah', 'gatal', 'panas', 'gitu', 'sedih', 'banget', 'jg', 'pake', 'obat', 'jerawat', 'udah', 'tidak', 'tidak_karna', 'kl', 'pake', 'ya', 'gamau', 'mesti', 'ninggalin', 'product', 'khusus', 'treatment', 'acne', 'super', 'lengkap'], 'negative')\n",
      "(['giur', 'pake', 'gara', 'lihat', 'review', 'beauty', 'bloggers', 'pake', 'habis', 'cuci', 'muka', 'wajah', 'rasa', 'kering', 'emang', 'rasa', 'bersih', 'gitu', 'tidak', 'tidak_nyadar', 'sabun', 'tidak', 'tidak_cocok', 'wajah', 'sadar', 'kali', 'make', 'jerawat', 'wajah', 'yg', 'aja', 'banget', 'bruntusan', 'pipi', 'sampe', 'skrg', 'ilang', 'udh', 'henti', 'make', 'minggu'], 'negative')\n",
      "(['pakai', 'produk', 'aling', 'gell', 'nya', 'pubertas', 'jerawat', 'muncul', 'efek', 'nya', 'tidak', 'tidak_asa', 'bikin', 'muka', 'asa', 'ketariktarik', 'kering', 'alhasil', 'bikin', 'muka', 'kering', 'wajah', 'produksi', 'sebum', 'aja', 'jerawat', 'muncul', 'saranin', 'kalo', 'habis', 'pakai', 'sabun', 'cuci', 'muka', 'asa', 'kering', 'siap2', 'aja', 'kulit', 'produksi', 'sebum', 'minyak'], 'positive')\n",
      "(['sabun', 'muka', 'beli', 'penasaran', 'merk', 'acnes', 'ampuh', 'jerawat', 'beli', 'breakout', 'garagara', 'pake', 'bb', 'cream', 'salah', 'eh', 'reda', 'pol', 'breakoutnya', 'udah', 'gitu', 'bikin', 'muka', 'kering', 'banget', 'langsung', 'gusur', 'deh', 'kamar', 'mandi', 'packaginya', 'lumayan', 'simpel', 'flip', 'flop', 'mudah', 'buka', 'tutup'], 'negative')\n",
      "(['ken', 'pake', 'rangkai', 'produk', 'acnes', 'suggest', 'aja', 'gitu', 'biar', 'hasil', 'bagus', 'face', 'wash', 'yaudadeh', 'beli', 'pake', 'oke', 'aja', 'pake', 'muncul', 'jerawat', 'think', 'jerawat', 'bulan', 'yaudah', 'lanjutin', 'pake', 'sampe', 'habis', 'botol', 'repurchase', 'ken', 'liat', 'khasiat', 'ya', 'jerawat', 'muncul', 'muka', 'tidak', 'tidak_nerusin', 'makenya'], 'negative')\n",
      "(['tidak', 'tidak_suka', 'face', 'wash', 'abis', 'cuci', 'muka', 'pake', 'muka', 'kering', 'kerontang', 'sampe', 'dry', 'patches', 'tidak', 'tidak_cocok', 'kulit', 'bikin', 'breakout', 'fragrance', 'alcohol', 'dalem'], 'negative')\n",
      "(['beli', 'tarik', 'review', 'beauty', 'blogger', 'nya', 'bagus', 'kulit', 'wajah', 'oily', 'tidak', 'tidak_cocok', 'kulit', 'oily', 'baru', 'pake', 'produk', 'kulit', 'ku', 'kering', 'tumbuh', 'jerawatnyesel', 'uda', 'beli', 'tidak', 'tidak_repurchase'], 'negative')\n",
      "(['nyobain', 'pas', 'jerawat', 'rada', 'parah', 'rekomendasi', 'kakak', 'hellaauuw', 'tidak', 'tidak_ngefek', 'kulit', 'oilyacne', 'proneku', 'nambah', 'bruntusan', 'tidak', 'tidak_karuan', 'udah', 'gitu', 'abis', 'cumuk', 'aneh', 'tidak', 'tidak_bersih', 'aja', 'ni', 'kulit', 'cocok', 'kulit', 'kering', 'ya', 'untung', 'pas', 'beli', 'yg'], 'negative')\n",
      "(['big', 'cinta', 'product', 'ubah', 'bikin', 'kulit', 'kering', 'parah', 'cuaca', 'kota', 'akhir2', 'dingin', 'banget', 'pinggir', 'bibir', 'sampe', 'ngelupas2', 'gitu', 'perih', 'banget', 'gara', 'gara', 'exfo', 'tonerku', 'stop', 'pakai', 'kering', 'ilang'], 'negative')\n",
      "(['tidak', 'tidak_cocok', 'pake', 'product', 'habis', 'fw', 'muka', 'kaya', 'keset', 'banget', 'make', 'karna', 'kecantol', 'beuty', 'vlogger', 'kit', 'tidak', 'tidak_make', 'ngilangi', 'jerawat', 'muka', 'ku', 'jerawat', 'nya', 'pake', 'bruntusan', 'ku'], 'negative')\n",
      "(['kali', 'nyoba', 'acnes', 'produk', 'alas', 'ken', 'alih', 'dr', 'body', 'shop', 'biar', 'lbh', 'hemat', 'tidak', 'tidak_cocok', 'ngerasa', 'muka', 'gatel2', 'trs', 'merah2', 'sadar', 'muncul', 'jerawat', 'dahi', 'sedih', 'banget', 'pdhl', 'liat', 'org2', 'pd', 'cocok', 'sm', 'produk', 'wont', 'repurchase', 'product', 'anymore', 'pakai', 'hikss'], 'negative')\n",
      "(['banget', 'bilang', 'produk', 'bagus', 'iseng', 'nyobain', 'awalawal', 'make', 'emang', 'kesat', 'bersih', 'gitu', 'tidak', 'tidak_minyak', 'lamalama', 'jidat', 'beruntus', 'jerawat', 'tidak', 'tidak_untung', 'henti', 'pakai', 'langsung', 'hilang', 'kena', 'mata', 'duuh', 'perih', 'banget', 'beneran', 'cekitcekit', 'gimana', 'gitu'], 'negative')\n",
      "(['coba', 'pake', 'acnes', 'creamy', 'wash', 'lepas', 'creamcream', 'facial', 'washnya', 'klinik', 'cantik', 'maju', 'mundur', 'coba', 'takut', 'tidak', 'tidak_cocok', 'beneran', 'tidak', 'tidak_cocok', 'pake', 'langsung', 'jerawat', 'mendem', 'dahi', 'belah', 'hidung', 'pake', 'acnes', 'pas', 'mens', 'pikir', 'jerawat', 'garagara', 'mens', 'mens', 'selesai', 'jerawat', 'timbul', 'tenggelam', 'langsung', 'stop', 'acnesnya', 'minggu', 'cuci', 'muka', 'pake', 'oatmeal', 'repurchase', 'absolutely'], 'negative')\n",
      "(['lumayan', 'wangi', 'kalem', 'tidak', 'tidak_nyengat', 'busa', 'gk', 'karna', 'makenya', 'ya', 'kalo', 'habis', 'pake', 'muka', 'sih', 'tidak', 'tidak_tersa', 'tarik', 'gara2', 'sekrang', 'mncul', 'kerwar', 'ppi', 'sma', 'dahi', 'pas', 'gk', 'ngeh', 'krna', 'coba', 'pake', 'skrang', 'tau', 'mang', 'gk', 'ccok', 'dhal', 'gk', 'da', 'jerwat', 'skrang', 'mlah', 'mncul', 'merah2', 'nyesel', 'beli', 'kulit', 'sensitif', 'n', 'minyak', 'kaya', 'gk', 'cocok', 'parah', 'pusing', 'balikin', 'muka', 'biar', 'ilang', 'jerwat', 'pdhal', 'minyak'], 'negative')\n",
      "(['pakai', 'hada', 'labo', 'mild', 'peeling', 'cleanser', 'coba', 'acnes', 'pakai', 'hilang', 'jerawat', 'pakai', 'tumbuh', 'jerawat2', 'bruntusan', 'tp', 'jerawat', 'jd', 'tidak', 'tidak_ampuh', 'lg', 'hilangin', 'jerawat', 'sifat', 'jd', 'kaya', 'sabun', 'cuci', 'muka', 'jerawat', 'tetep', 'muncul'], 'negative')\n",
      "(['pakai', 'produk', 'karna', 'tidak', 'tidak_bawa', 'facial', 'wash', 'yg', 'pake', 'pakai', 'baik2', 'aja', 'udah', 'muncul', 'jerawat', 'dipake', 'jerawat', 'nambah', 'udah', 'gitu', 'bilas', 'wajah', 'kesat', 'kering', 'tarik', 'karna', 'alam', 'tidak', 'tidak_senang', 'renti', 'pake', 'produk', 'repurchase', 'absolutely'], 'positive')\n",
      "(['pake', 'muka', 'seger', 'gt', 'tp', 'lama2', 'kek', 'tarik', 'jd', 'tp', 'bodoh', 'pake', 'trs', 'smpe', 'kek', 'gt', 'karna', 'harga', 'murah', 'bgt', 'trs', 'mudah', 'nyarinya', 'lg', 'bener2', 'males', 'nyoba', 'skincare', 'gt', 'untung', 'yg', 'cocok', 'sm', 'produk'], 'negative')\n",
      "(['iseng', 'beli', 'reviewnya', 'bagusbagus', 'minggu', 'nyoba', 'tumbuh', 'jerawat', 'yg', 'mateng', 'tumbuh', 'ulang', 'kayak', 'pas', 'sabun', 'muka', 'yg', 'udah', 'tidak', 'tidak_emang', 'cocok', 'yg', 'kulit'], 'negative')\n",
      "(['iseng', 'aja', 'cobain', 'produk', 'acnes', 'bruntusan', 'dahi', 'kali', 'pake', 'tidak', 'tidak_suka', 'efek', 'ngebilas', 'kulit', 'serasa', 'tarik', 'bgt', 'bikin', 'kulit', 'kering', 'pake', 'kali', 'aja', 'takut', 'parah', 'kering'], 'negative')\n",
      "(['alas', 'beli', 'produk', 'krn', 'racun', 'beauty', 'vlogger', 'abel', 'cantika', 'hehehe', 'tarik', 'coba', 'tp', 'kulit', 'kering', 'big', 'pakai', 'lgsg', 'tau', 'tidak', 'tidak_cocok', 'kulit', 'kering', 'rasa', 'tarik', 'gitu', 'telah', 'sebab', 'merah', 'kulit', 'wajah', 'langsung', 'stop', 'deh', 'merah', 'kulit', 'angsur', 'baik', 'rutin', 'pakai', 'pelembab', 'wajah'], 'negative')\n",
      "(['beli', 'karna', 'ken', 'nyoba', 'ngilangin', 'jerawat', 'kulit', 'wajah', 'tidak', 'tidak_cocok', 'bikin', 'kering', 'abis', 'cuci', 'muka', 'sih', 'bersih', 'bbrp', 'cuci', 'muka', 'jerawat', 'gede', 'merah', 'trus', 'muka', 'kering', 'kliatan', 'tua', 'skrg', 'uda', 'tidak', 'tidak_beli', 'acnes', 'series', 'apa'], 'negative')\n",
      "(['pakai', 'sih', 'enak', 'ya', 'tidak', 'tidak_bikin', 'kering', 'wajah', 'aroma', 'tidak', 'tidak_ganggu', 'pakai', 'hari', 'muncul', 'jerawat', 'lumayan', 'gedhe', 'langsung', 'aja', 'stop', 'jenis', 'kulit', 'cenderung', 'kering', 'jerawat', 'satudua', 'gt', 'jelang', 'menstruasi', 'beda', 'cerita', 'adik', 'laki2', 'yg', 'dlm', 'puber', 'jerawat', 'parah', 'pakai', 'langsung', 'bersih', 'berangsung', 'baik'], 'positive')\n",
      "(['beli', 'karna', 'baca', 'blog', 'female', 'daily', 'cleanser', 'jerawat', 'kulit', 'kering', 'bawah', 'rb', 'salah', 'nya', 'acnes', 'murah', 'gampang', 'ditemuin', 'bau', 'mata', 'cepet', 'air', 'kayak', 'pedes', 'gitu', 'bikin', 'kulit', 'ketarikk', 'emang', 'ngak', 'bruntusan', 'muka', 'tapi', 'jerawat', 'batuu', 'parahh', 'bekas', 'jerawat', 'hilang', 'repurchase'], 'positive')\n",
      "(['pake', 'udh', 'ngabisin', 'botol', 'jerawat', 'gede', 'pipi', 'produk', 'tidak', 'tidak_ngebantu', 'memperbaikin', 'jerawat', 'kulit', 'aja', 'tidak', 'tidak_efek', 'yg', 'produk', 'beli', 'botol', 'ke2', 'bikin', 'jerawat', 'parah', 'sad', 'jujur', 'jerawat', 'buruk', 'hidup', 'hahah', 'lebay', 'bener', 'harap', 'bnyak', 'produk', 'yg', 'emang', 'spesialisasi', 'jerawat', 'tau', 'bikin', 'jerawtnya'], 'negative')\n",
      "(['facial', 'wash', 'yg', 'beli', 'pas', 'awal2', 'jerawat', 'ngerti', 'kulit', 'ku', 'pas', 'si', 'emng', 'bikin', 'jerawat', 'kering', 'jerawat', 'aja', 'yg', 'kering', 'muka', 'jd', 'kering', 'kerontang', 'parah', 'banget', 'sampe', 'tarik', 'gitu', 'tidak', 'tidak_nyaman', 'banget', 'jerawat', 'jg', 'oke', 'stop', 'emng', 'dasar', 'nya', 'kulit', 'kering', 'tidak', 'tidak_cocok', 'produk2', 'acne'], 'negative')\n",
      "(['beli', 'harap', 'bantu', 'jerawat', 'zonk', 'tekstur', 'busa', 'creamy', 'kalo', 'abis', 'pake', 'muka', 'asa', 'keset', 'banget', 'kering', 'ketariktarik', 'tidak', 'tidak_pake', 'nongol', 'jerawat', 'gedegede', 'fix', 'tidak', 'tidak_cocok', 'mah', 'wont', 'repurchase'], 'negative')\n",
      "(['beli', 'kuliah', 'pas', 'jerawat', 'tekstur', 'creamy', 'busa', 'dikit', 'kandung', 'sls', 'nya', 'bikin', 'kulit', 'tarik', 'kering', 'tidak', 'tidak_ngaruh', 'jerawat', 'ngrasa', 'bersih', 'aja', 'say', 'product'], 'positive')\n"
     ]
    }
   ],
   "source": [
    "for sentiment in prediction:\n",
    "    print(sentiment)"
   ]
  },
  {
   "cell_type": "markdown",
   "metadata": {},
   "source": [
    "# HITUNG AKURASI"
   ]
  },
  {
   "cell_type": "code",
   "execution_count": 53,
   "metadata": {},
   "outputs": [
    {
     "data": {
      "text/plain": [
       "74.0"
      ]
     },
     "execution_count": 53,
     "metadata": {},
     "output_type": "execute_result"
    }
   ],
   "source": [
    "num_true = 0\n",
    "for k,val in enumerate(validation_test):\n",
    "    if val==sentiment_test[k]: \n",
    "        num_true+=1\n",
    "accuracy = (num_true/len(data_test))*100\n",
    "accuracy"
   ]
  }
 ],
 "metadata": {
  "kernelspec": {
   "display_name": "Python 3",
   "language": "python",
   "name": "python3"
  },
  "language_info": {
   "codemirror_mode": {
    "name": "ipython",
    "version": 3
   },
   "file_extension": ".py",
   "mimetype": "text/x-python",
   "name": "python",
   "nbconvert_exporter": "python",
   "pygments_lexer": "ipython3",
   "version": "3.6.4"
  }
 },
 "nbformat": 4,
 "nbformat_minor": 2
}
