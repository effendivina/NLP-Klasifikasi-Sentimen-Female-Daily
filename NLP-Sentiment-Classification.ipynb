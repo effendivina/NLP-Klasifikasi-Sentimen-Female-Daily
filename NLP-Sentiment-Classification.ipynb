{
 "cells": [
  {
   "cell_type": "code",
   "execution_count": 2,
   "metadata": {},
   "outputs": [],
   "source": [
    "from Sastrawi.Stemmer.StemmerFactory import StemmerFactory\n",
    "import csv\n",
    "import random\n",
    "import re\n",
    "import sys\n",
    "import nltk\n",
    "from nltk.corpus import stopwords"
   ]
  },
  {
   "cell_type": "markdown",
   "metadata": {},
   "source": [
    "# FUNGSI PREPROCESSING"
   ]
  },
  {
   "cell_type": "code",
   "execution_count": 17,
   "metadata": {},
   "outputs": [],
   "source": [
    "def openFile(file_name):\n",
    "    with open(file_name, encoding=\"utf-8\") as csvfile: \n",
    "        next(csvfile)\n",
    "        rawArticles = csv.reader(csvfile, delimiter=',') \n",
    "        all_reviews = [] \n",
    "        all_sentiment = []\n",
    "        for row in rawArticles:\n",
    "            all_reviews.append((row[3].lower()).split())\n",
    "            all_sentiment.append(row[5].lower())\n",
    "    n_reviews=len(all_reviews)\n",
    "    randomize = random.sample(range(n_reviews), n_reviews)\n",
    "    idx_train = randomize[:(int(n_reviews*0.8))]\n",
    "    idx_test = randomize[(int(n_reviews*0.8)):]\n",
    "    reviews_train = [all_reviews[idx] for idx in idx_train]\n",
    "    sentiment_train = [all_sentiment[idx] for idx in idx_train]\n",
    "    reviews_test = [all_reviews[idx] for idx in idx_test]\n",
    "    sentiment_test = [all_sentiment[idx] for idx in idx_test]\n",
    "    return reviews_train, sentiment_train, reviews_test, sentiment_test"
   ]
  },
  {
   "cell_type": "code",
   "execution_count": 5,
   "metadata": {},
   "outputs": [],
   "source": [
    "def getStopWordsList(stopwordsfile):\n",
    "    stopwords=[]\n",
    "    file_stopwords = open(stopwordsfile,'r')\n",
    "    row = file_stopwords.readline()\n",
    "    while row:\n",
    "        word = row.strip()\n",
    "        stopwords.append(word)\n",
    "        row = file_stopwords.readline()\n",
    "    file_stopwords.close()\n",
    "    return stopwords"
   ]
  },
  {
   "cell_type": "code",
   "execution_count": 6,
   "metadata": {},
   "outputs": [],
   "source": [
    "def getEmojiHandling(review):\n",
    "    emoji = []\n",
    "    for word in review:\n",
    "        #Smile -- :), : ), :-), (:, ( :, (-:, :')\n",
    "        word = re.sub(r'(:\\s?\\)|:-\\)|\\(\\s?:|\\(-:|:\\'\\))','POS',word)\n",
    "        \n",
    "        #Laugh -- :D, : D, :-D, xD, x-D, XD, X-D\n",
    "        word = re.sub(r'(:\\s?D|:-D|x-?D|X-?D)','POS',word)\n",
    "\n",
    "        # Sad -- :-(, : (, :(, ):, )-:\n",
    "        word = re.sub(r'(:\\s?\\(|:-\\(|\\)\\s?:|\\)-:)', ' NEG ', word)\n",
    "\n",
    "        # Cry -- :,(, :'(, :\"(, T_T\n",
    "        word = re.sub(r'(:,\\(|:\\'\\(|:\"\\(|T_T)', ' NEG ', word)\n",
    "\n",
    "        emoji.append(word)\n",
    "    return emoji"
   ]
  },
  {
   "cell_type": "code",
   "execution_count": 7,
   "metadata": {},
   "outputs": [],
   "source": [
    "def getPunctHandling(review):\n",
    "    #menghilangkan tanda baca\n",
    "    preprocess_review = []\n",
    "    for word in review:\n",
    "        word = word.strip('\\'\"?!,.():;')\n",
    "\n",
    "        #mengkonversi huruf vocal lebih dari satu dan berurutan\n",
    "        word_character = re.compile(r\"(.)\\1+\", re.DOTALL)\n",
    "        word = word_character.sub(r\"\\1\\1\", word)\n",
    "\n",
    "        #menghilangkan tanda - & '\n",
    "        word = re.sub(r'(-|\\')','',word)\n",
    "\n",
    "        preprocess_review.append(word.lower())\n",
    "    return preprocess_review"
   ]
  },
  {
   "cell_type": "code",
   "execution_count": 8,
   "metadata": {},
   "outputs": [],
   "source": [
    "def getStemmingSentence(review):\n",
    "    factory = StemmerFactory()\n",
    "    stemmer = factory.create_stemmer()\n",
    "    return stemmer.stem(review)\n"
   ]
  },
  {
   "cell_type": "code",
   "execution_count": 9,
   "metadata": {},
   "outputs": [],
   "source": [
    "def getFeatureVector(review,stop_words_indo,stop_words_eng):\n",
    "    feature_vector = []\n",
    "    list_no = ['ga','engga','enggak','gak','nggak','ngga','tdk']\n",
    "    for word in review:\n",
    "        val = re.search(r\"^[a-zA-Z][a-zA-Z0-9]*$\", word) #menghilangkan karakter selain huruf didalam kata\n",
    "        if (word in stop_words_indo or val is None or word in stop_words_eng):\n",
    "            continue\n",
    "        else:\n",
    "            if word in list_no:\n",
    "                word = 'tidak'\n",
    "            feature_vector.append(word)\n",
    "    for_stemming = ' '.join(feature_vector)\n",
    "    return feature_vector, for_stemming\n"
   ]
  },
  {
   "cell_type": "code",
   "execution_count": 10,
   "metadata": {},
   "outputs": [],
   "source": [
    "def getNegativeHandling(review):\n",
    "    negative_review = []\n",
    "    for i in range(len(review)):\n",
    "        word = review[i]\n",
    "        if review[i-1] != 'tidak':\n",
    "            negative_review.append(word)\n",
    "        else:\n",
    "            word = 'tidak_'+word\n",
    "            negative_review.append(word)\n",
    "    return negative_review"
   ]
  },
  {
   "cell_type": "code",
   "execution_count": 11,
   "metadata": {},
   "outputs": [],
   "source": [
    "def preprocessReview(review):\n",
    "    return getPunctHandling(getEmojiHandling(review))"
   ]
  },
  {
   "cell_type": "code",
   "execution_count": 12,
   "metadata": {},
   "outputs": [],
   "source": [
    "def createFreqDict(reviewHandled):\n",
    "    freqOfWord = {}\n",
    "    for sentence in reviewHandled:\n",
    "        for word in sentence:\n",
    "            if word in freqOfWord:\n",
    "                freqOfWord[word] += 1\n",
    "            else:\n",
    "                freqOfWord[word] = 1\n",
    "    file_key = open('keys.txt','w')\n",
    "    for key in freqOfWord.keys():\n",
    "        file_key.write(str(key))\n",
    "        file_key.write(\"\\n\")\n",
    "    file_key.close()\n",
    "    return freqOfWord"
   ]
  },
  {
   "cell_type": "code",
   "execution_count": 13,
   "metadata": {},
   "outputs": [],
   "source": [
    "def getFeatureExtraction(review):\n",
    "    words = set(review)\n",
    "    features = {}\n",
    "    for word in feature_list.keys():\n",
    "        features['contains(%s)' % word] = (word in words) \n",
    "    return features"
   ]
  },
  {
   "cell_type": "markdown",
   "metadata": {},
   "source": [
    "# BACA DATA"
   ]
  },
  {
   "cell_type": "code",
   "execution_count": 22,
   "metadata": {},
   "outputs": [],
   "source": [
    "reviews_train, sentiments_train, reviews_test, sentiments_test = openFile('dataset.csv')\n",
    "stop_words_indo = getStopWordsList('stopwordsindo.txt')\n",
    "stop_words_eng = stopwords.words('english')"
   ]
  },
  {
   "cell_type": "markdown",
   "metadata": {},
   "source": [
    "# TRAINING DATA"
   ]
  },
  {
   "cell_type": "code",
   "execution_count": 23,
   "metadata": {},
   "outputs": [
    {
     "name": "stdout",
     "output_type": "stream",
     "text": [
      "Wall time: 9min 37s\n"
     ]
    }
   ],
   "source": [
    "%%time\n",
    "preprocess_reviews = []\n",
    "tokens = []\n",
    "reviews = []\n",
    "handled_reviews = []\n",
    "feature_list = []\n",
    "for review in reviews_train:\n",
    "    feature, review_for_stem = getFeatureVector(preprocessReview(review),stop_words_indo,stop_words_eng)\n",
    "    preprocess_reviews.append(getStemmingSentence(review_for_stem))"
   ]
  },
  {
   "cell_type": "code",
   "execution_count": 24,
   "metadata": {},
   "outputs": [
    {
     "name": "stdout",
     "output_type": "stream",
     "text": [
      "Wall time: 83.8 ms\n"
     ]
    }
   ],
   "source": [
    "%%time\n",
    "for review in preprocess_reviews:\n",
    "    tokens.append(nltk.word_tokenize(review))"
   ]
  },
  {
   "cell_type": "code",
   "execution_count": 25,
   "metadata": {},
   "outputs": [
    {
     "name": "stdout",
     "output_type": "stream",
     "text": [
      "Wall time: 4.02 ms\n"
     ]
    }
   ],
   "source": [
    "%%time\n",
    "for i in range(len(tokens)):\n",
    "    neg_handled_rev = getNegativeHandling(tokens[i])\n",
    "    handled_reviews.append(neg_handled_rev)\n",
    "    reviews.append((neg_handled_rev,sentiments_train[i]))"
   ]
  },
  {
   "cell_type": "code",
   "execution_count": 26,
   "metadata": {},
   "outputs": [
    {
     "name": "stdout",
     "output_type": "stream",
     "text": [
      "Wall time: 1.38 s\n"
     ]
    }
   ],
   "source": [
    "%%time\n",
    "feature_list = createFreqDict(handled_reviews)\n",
    "training_set = nltk.classify.util.apply_features(getFeatureExtraction,reviews)\n",
    "NBClassifier = nltk.NaiveBayesClassifier.train(training_set)"
   ]
  },
  {
   "cell_type": "markdown",
   "metadata": {},
   "source": [
    "# VALIDASI DATA TESTING"
   ]
  },
  {
   "cell_type": "code",
   "execution_count": 27,
   "metadata": {},
   "outputs": [
    {
     "name": "stdout",
     "output_type": "stream",
     "text": [
      "Wall time: 806 ms\n"
     ]
    }
   ],
   "source": [
    "%%time\n",
    "prediction = []\n",
    "validation_test = []\n",
    "for review in reviews_test:\n",
    "    feature_classification, review_test_for_stem = getFeatureVector(review,stop_words_indo,stop_words_eng)\n",
    "    handled_reviews_test = getNegativeHandling(feature_classification)\n",
    "    classify_result = NBClassifier.classify(getFeatureExtraction(handled_reviews_test))\n",
    "    prediction.append((review,classify_result))\n",
    "    validation_test.append(classify_result)"
   ]
  },
  {
   "cell_type": "code",
   "execution_count": 28,
   "metadata": {},
   "outputs": [
    {
     "name": "stdout",
     "output_type": "stream",
     "text": [
      "(['ini', 'face', 'wash', 'yang', 'awalnya', 'aku', 'ga', 'suka,', 'tapi', 'sekarang', 'jadi', 'my', 'go-to', 'face', 'wash', 'sampe', 'repurchase', 'berulang', 'kali.', 'tiap', 'abis', 'cumuk', 'muka', 'rasanya', 'halus', 'tanpa', 'kerasa', 'kering', 'ketarik-tarik.', 'kalo', 'buat', 'ngurangin', 'komedo', 'kayaknya', 'ga', 'ngefek', 'sih', 'ya.', 'kulitku', 'emang', 'butuh', 'exfoliator', 'yang', 'lebih', 'strong', 'kalo', 'buat', 'komedo', 'mah.', 'dia', 'ga', 'ada', 'wanginya', 'juga.', 'ga', 'ngerti', 'sih', 'ini', 'hg', 'apa', 'engga', 'buat', 'aku,', 'tapi', 'kalo', 'lagi', 'ga', 'cocok', 'sama', 'face', 'wash', 'lain,', 'ujung-ujungnya', 'aku', 'balik', 'lagi', 'ke', 'hada', 'labo', 'tamagohada', 'ini.'], 'positive')\n",
      "(['dari', 'semua', 'variant', 'hadalabo', 'ini', 'yang', 'paling', 'better.', 'gatau', 'kenapa', 'semua', 'orang', 'cocok', 'tapi', 'di', 'gue', 'akhirnya', 'malah', 'bikin', 'moist', 'parah', 'dan', 'rasanya', 'muka', 'kurang', 'bersih', 'aja', 'gitu,', 'untungnya', 'dia', 'ga', 'bikin', 'beruntusan', 'sih.'], 'negative')\n",
      "(['pakai', 'fw', 'ini', 'pagi', 'doang,', 'dan', 'malam', 'nya', 'pakai', 'yg', 'series', 'tamagoda.', 'seminggu', 'berjalan', 'gatau', 'kenapa', 'bruntusan', 'keluar', 'gitu', 'aku', 'kira', 'penyebabnya', 'si', 'fw', 'tamagoda', 'yaudah', 'aku', 'stop', 'in', 'tamagoda', 'dan', 'niatnya', 'pakai', 'fw', 'yg', 'ini', 'aja', 'dannnn', 'ternyata', 'ga', 'ngeefek', 'jerawat', 'nya', 'malah', 'tambah', 'banyak', 'what', 'wrong', ':(', 'jadi', 'ga', 'pernah', 'aku', 'pakai', 'lagi', 'deh', 'bersamaan', 'produk', 'hadalabo', 'yg', 'lainnya'], 'negative')\n",
      "(['ini', 'ternyata', 'ampuh', 'banget', 'buat', 'jerawat', 'di', 'pipi.', 'dan', 'beneran', 'claimnya', 'ngilangin', 'jerawat', 'dalam', '3', 'hari.', 'kadang', '4', 'hari.', 'apalagi', 'kalau', 'dicombo', 'sama', 'moisturizer', 'nya.', 'cuma', 'dipake', 'kalo', 'lagi', 'jerawatan', 'doang.', 'waktu', 'itu', 'beli', 'di', 'minimarket', 'lagi', 'promo', 'beli', 'facial', 'wash', 'gratis', 'moisturizer.', 'jadi', 'makin', 'murah!!!'], 'positive')\n",
      "(['sadly', 'it', 'just', \"doesn't\", 'work', 'on', 'me', ':(', 'udah', 'baca2', 'tentang', 'produk', 'ini', 'dari', 'dulu', 'banget,', 'dan', 'most', 'reviews', 'said', 'that', 'this', 'product', 'is', 'that', 'good.', 'tapi', 'waktu', 'itu', 'juga', 'aku', 'tau', 'kalo', 'ini', 'ternyata', 'ph', 'nya', 'tinggi', 'banget', '(di', 'range', 'basa)', 'dan', 'di', 'beberapa', 'orang', 'yang', 'ga', 'cocok,', 'disebutnya', 'rasanya', 'adalah', 'muka', 'jadi', 'berasa', 'kering', 'banget', 'banget.', 'and', 'unfortunately,', 'i', 'felt', 'that', 'too.', 'padahal', 'muka', 'aku', 'berminyak,', 'pake', 'ini', 'bisa', 'langsung', 'ngerasa', 'sekering', 'banget', 'itu', 'kayak', 'ketarik2.', 'nggak', 'cuma', 'itu,', 'tapi', 'kulit', 'langsung', 'bereaksi', 'sensitif...merah2', 'dan', 'bruntusan', ':(', 'sedih', 'banget,', 'kulit', 'muka', 'aku', 'ga', 'pernah', 'bereaksi', 'segini', 'parahnya', 'make', 'produk', 'apapun.', 'berharap', 'cocok', 'sama', 'produk', 'ini', 'dan', 'wanginya', 'juga', 'enak,', 'tapi', 'ternyata', 'kulitku', 'lebih', 'cocok', 'sama', 'sodaranya', 'dari', 'jepang', 'juga,', 'hada', 'labo.'], 'negative')\n",
      "(['beli', 'ini', 'sama', 'moisturizernya', 'waktu', 'lepas', 'krim', 'dokter', 'dan', 'lagi', 'break', 'out', 'parah.', 'hasilnya', 'nggak', 'ngaruh', 'apa-apa', 'malah', 'nambah', 'iritasi.', 'trus', 'mikir,', 'yaudah', 'lah', 'ga', 'ush', 'dipakai', 'lg', 'kayaknya', 'terlalu', 'keras', 'trus', 'setelah', 'berapa', 'lama', 'pakai', 'g**nier', 'matcha', 'dan', 'enak', 'bgt.', 'nah..', 'akhir2', 'ini', 'aku', 'kan', 'sering', 'liat', 'video', 'kak', 'suhay', 'salim,', 'di', 'sana', 'dia', 'ngasi', 'tau', 'klo', 'ponds', 'acne', 'ini', 'adalah', 'yg', 'selalu', 'dia', 'pake', 'pas', 'jerawatan.', 'kemudian,', 'kupengen', 'nyoba', 'lagi,', 'dengan', 'pertimbangan', 'kan', 'sekarang', 'muka', 'nggak', 'sebreakout', 'dulu', 'mungkin', 'bisa', 'lah', 'yaa', 'pakai', 'lagi..', 'dan', 'taraaa', 'baru', 'makai', '2', 'hari', 'dan', 'omg,', 'jerawat', 'batu', 'keluar', 'semuaa', 'hiks', 'hiks', 'keroyokan', 'pula.', 'sooo,', 'aku', 'putuskan', 'untuk', 'stop', 'dan', 'balik', 'ke', 'g**nier', 'matchaa', '??', 'nb:', 'padahal', 'suka', 'baunya', 'seger', 'bersih', 'gimana', 'gitu', 'tapi', 'apa', 'mau', 'dikata', 'kita', 'tak', 'berjodoh'], 'negative')\n",
      "(['best', 'for', 'acne', 'skin', 'ever!!', 'very', 'recommended', 'product!', 'di', 'awal', 'pemakaian,', 'produk', 'ini', 'akan', 'mengeluarkan', 'bakal', 'jerawat', 'yang', 'ada', 'di', 'kulit', 'wajah', 'kita..', 'membersihkan', 'pori2', 'wajah', 'secara', 'mendalam..', 'oleh', 'karena', 'itu', 'akan', 'banyak', 'jerawat', 'yg', 'keluar', 'di', 'awal', 'pemakaian..', 'jangan', 'takut', 'dan', 'jangan', 'berhenti', 'menggunakannya.', 'karena', 'setelah', 'pemakaian', 'beberapa', 'kali,', 'produk', 'ini', 'akan', 'membuat', 'wajah', 'kita', 'menjadi', 'bersih', 'dan', 'mulus', 'kembali..', 'gunakan', 'juga', 'rangkaian', 'produk', 'tea', 'tree', 'agar', 'hasilnya', 'lebih', 'optimal..'], 'negative')\n",
      "(['pas', 'gw', 'lg', 'dapet', 'keluar', 'jerawat', 'dan', 'gw', 'memutuskan', 'beli', 'ini', 'dan', 'pas', 'gw', 'pake', 'malah', 'makin', 'banyak', 'jerawatnya', 'apalagi', 'di', 'pipi!', 'gw', 'stres', 'parah', 'dan', 'begonya', 'gw', 'ga', 'sadar', 'kalo', 'ini', 'yg', 'bikin', 'jerawat', 'gw', 'makin', 'banyak', 'wkwk', 'akhirnya', 'stop', 'pake', '&', 'ga', 'akan', 'beli', 'lagi.', 'bye', 'deh!'], 'negative')\n",
      "(['favoritttt!!!', 'sesuai', 'dengan', 'namanya,', 'dia', 'bertekstur', 'creamy.', 'cara', 'pakaiku,', 'wajah', 'maupun', 'tangan', 'gak', 'aku', 'basahi', 'dulu', 'dan', 'gak', 'dibusakan,', 'jadi', 'agak', 'lengket', '-', 'lengket', 'rasanya..', 'after', 'effectnya', 'sukaaaa!', 'rasa', 'ngeringin', 'mukanya', 'itu', 'minim', 'banget', 'dan', 'gak', 'bikin', 'wajah', 'terlalu', 'keset.', '1', 'tube', 'bisa', 'sampai', '4-5', 'bulan', 'utk', 'ukuran', '100gr.', 'sayangnya', 'varian', 'harganya', 'di', 'supermarket', 'terlalu', 'besar', 'untuk', 'ukuran', 'yg', 'sama.', 'kadang', 'ada', 'yang', 'cuma', '16ribuan,', 'eh', 'malah', 'pernah', 'nemu', 'harganya', 'sampai', '27ribuan.'], 'positive')\n",
      "(['cleanser', 'terbaik', 'yang', 'pernah', 'aku', 'coba', 'untuk', 'menghapus', 'makeup!!', 'awalnya', 'aku', 'agak', 'ragu,', 'karena', 'mukaku', 'yang', 'cenderung', 'berminyak', 'dan', 'gampang', 'sekali', 'berjerawat', 'jika', 'kurang', 'bersih', 'saat', 'menghapus', 'makeup.', 'jadi', 'biasa', 'aku', 'tetap', 'menggunakan', 'remover', 'sebelum', 'mencuci', 'mukaku.', 'tetapi,', 'setelah', 'dicoba', 'tanpa', 'menggunakan', 'remover,', 'ternyata', 'mukaku', 'sudah', 'bersih.', ':d', 'jadi', 'tidak', 'perlu', 'menggunakan', 'remover', 'lagi', 'untuk', 'membersihkan', 'fondation', 'atau', 'bb', 'cream.', 'tapi', 'untuk', 'eyeliner', 'dan', 'mascara,', 'tetap', 'harus', 'menggunakan', 'remover.', 'mungkin', 'karena', 'eyeliner', 'dan', 'mascaranya', 'waterproof', 'ya..', 'tapi', 'overall,', 'i', 'love', 'this', 'product', ':)'], 'positive')\n",
      "(['aku', 'selalu', 'cuci', 'muka', 'dengan', \"pond's\", 'dari', 'jaman', 'sekolah', '(smp', 'apa', 'sma', 'gitu).', 'dan', 'sampe', 'sekarang', 'cocok', 'cocok', 'aja.', 'aku', 'selalu', 'pakau', 'yang', 'untuk', 'oil', 'control', 'dan', 'ada', 'scrubnya.', 'tapi', 'kalau', 'pake', 'yang', 'oil', 'control', 'mukaku', 'jadi', 'keriing', 'banget', 'dan', 'mudah', 'berjerawat.', 'lalu', 'kemudian', 'aku', 'beralih', 'ke', 'si', 'acne', 'solution', 'ini.', 'dan', 'hasilnya', 'pun', 'cocok', 'banget', 'di', 'kulit', 'aku.', 'dia', 'tidak', 'bikin', 'kulit', 'muka', 'aku', 'jadi', 'kering.', 'mungkin', 'karena', 'tidak', 'ada', 'scrubnya', 'yang', 'bikin', 'wajah', 'aku', 'iritasi.', 'jadi', 'so', 'far', 'sih', 'aku', 'aman-aman', 'aja', 'pake', 'produk', 'ini.', 'aku', 'terus', 'repurchase', 'kalau', 'produk', 'ini', 'habis', ':)'], 'positive')\n",
      "(['muka', 'ancur', 'cuma', 'karna', '1mgg', 'pake', 'e*ha,', 'udh', 'pesimis', 'krn', 'selama', '1thn', 'gak', 'bisa', 'ilang\"', 'ni', 'jerawat,', 'pas', 'udh', 'mulai', 'membaik,', 'kemakan', 'review', 'terus', 'beli', 'ini,', 'eh', '3x', 'pakai', 'muka', 'malah', 'jerawatan', 'lagi.', 'dan', 'makin', 'gede\",', 'merah\"', 'gtu', 'dan', 'sakit', ':(', 'padahal', 'optimis', 'bgt', 'sm', 'produk', 'ini.', 'mau', 'dijual', 'aj', 'deh', 'isi', '95%', '100k', 'aja.'], 'negative')\n",
      "(['busanya', 'sedikit', 'dan', 'sangat', 'gentle', 'bahkan', 'untuk', 'jenis', 'kulit', 'sensitif', 'sekalipun.', 'walaupun', 'budanya', 'sedikit', 'tapi', 'mampu', 'membersihkan', 'kulit', 'secara', 'menyeluruh,', 'terbukti', 'dari', 'kulit', 'terasa', 'bersih', 'tanpa', 'terasa', 'tertarik', 'dan', 'tdk', 'meninggalkan', 'residu'], 'positive')\n",
      "(['dulu', 'aku', 'beli', 'face', 'wash', 'ini', 'niatnya', 'buat', 'gantiin', 'sabun', 'dokter.', 'tapi', 'pas', 'pertama', 'kali', 'pake', 'muka', 'langsung', 'kusam.', 'kusamnya', 'gak', 'tanggung2..', 'muka', 'langsung', 'keliatan', 'menggelap', '1', 'tingkat', '-_-', 'aku', 'pikir', 'ah', 'mungkin', 'perasaanku', 'aja', 'kan..', 'eh', 'langsung', 'dinyinyirin', 'sama', 'nyokap', 'karena', 'mukaku', 'kusam', 'banget', 'kayak', 'dekil', 'gitu.', 'pas', 'aku', 'pake', 'kedua', 'kali..', 'tetep', 'sama', 'aja', 'muka', 'masih', 'keliatan', 'kusam.', 'akhirnya', 'langsung', 'aku', 'stop', 'aja', 'daripada', 'kondisi', 'kulit', 'makin', 'parah.'], 'negative')\n",
      "(['aku', 'pake', 'ini', 'udh', 'abis', '3', 'tube,', 'so', 'far,', 'cleanser', 'ini', 'cucccoookk', 'sangaatt', 'di', 'aku.', 'aneh', 'sebenernya', 'padahal', 'cleanser', 'ini', 'berbusa', 'ya', 'which', 'is', 'bikin', 'muka', 'agak', 'keset', 'n', 'ketarik', 'after', 'use,', 'tp', 'justru', 'cleanser', 'ini', 'yg', 'bikin', 'kulitku', 'kalem.', 'sebelumnya', 'aku', 'pake', '**taphil', 'tp', 'jerawat', 'masih', 'muncul', 'aja.', 'klo', 'skr', 'jerawat', 'masi', 'ada,', 'tp', 'ya', 'gak', 'segede2', 'gaban', 'yg', 'bikin', 'gak', 'pede', 'gitu.', 'kluarnya', 'pun', 'cm', 'di', 'saat2', 'tertentu', 'misal', 'pas', 'pms.', 'yg', 'bikin', 'sebel,', 'agak', 'susah', 'carinya', 'yaa.', 'di', 'hypermarket', 'gitu', 'ga', 'slalu', 'ada.', 'di', 'drugstore', 'kadang', 'ada', 'kadang', 'gak.', 'jd', 'hrs', 'online,', 'pdhl', 'klo', 'tiba2', 'abis', 'kan', 'susah', 'ya,', 'hrs', 'nunggu', 'paketnya', 'dtg', 'dl.', 'mau', 'ga', 'mau', 'jd', 'nyetok.'], 'negative')\n",
      "(['muka', 'aku', 'jerawat', 'dan', 'bruntusan', 'parah,', 'selalu', 'cari', 'product', 'yang', 'buat', 'kulit', 'berjerawat', 'tp', 'tetep', 'ga', 'ada', 'hasil,', 'waktu', 'coba', 'pake', 'ini', 'enak', 'banget', 'parah', 'setiap', 'abis', 'cuci', 'muka', 'rasanya', 'muka', 'jadi', 'kencang', 'dan', 'kenyal', 'trus', 'juga', 'mengurangi', 'jerawat', 'dan', 'bruntusan.', 'dengan', 'harga', 'segitu', 'kalo', 'aku', 'pribadi', 'yang', 'cuci', 'muka', '2-3', 'kali', 'sehari', 'dan', 'itu', 'tahan', 'sampai', '3', 'bulanan', 'itu', 'worth', 'it', 'banget'], 'positive')\n",
      "(['aku', 'nyobain', 'ini', 'karena', 'kebetulan', 'di', 'indomaret', 'dan', 'facewash', 'lagi', 'habis.', 'tulisannya', 'gentle', 'wash', 'jadi', 'aku', 'pikir', 'bakal', 'ringan', 'n', 'ga', 'bikin', 'kulit', 'kering,', 'aku', 'cobain', 'ini', 'seminggu', 'n', 'hasilnya', 'tiap', 'cucimuka', 'kulit', 'aku', 'stretched', 'dan', 'kering', 'banget', 'udah', 'lewat', 'sminggu', 'mulai', 'flaky', 'di', 'sekitar', 'hidung.', 'intinya', 'produk', 'ini', 'gacocok', 'sama', 'aku', 'pro:', '-cheap', 'cons:', '-drying'], 'negative')\n",
      "(['kalo', 'sk', 'ii', 'products', 'yg', 'lain', 'such', 'as', 'fte', 'atau', 'clear', 'lotion', 'aku', 'habis,', 'aku', 'ga', 'terlalu', 'buru2', 'bener', 'mau', 'beli.', 'nahhh', 'kalo', 'si', 'gentle', 'cleanser', 'ini', 'udah', 'tinggal', 'dikit', 'banget', 'kerasa', 'enteng', 'banget,', 'mulai', 'deh', 'aku', 'gelisah', 'gundah', 'gulana.', 'aku', 'bisa', 'bertahan', 'tanpa', 'skin', 'care', 'apa', 'pun,', 'asal', 'facial', 'wash', 'nya', 'sk', 'ii', 'gentle', 'cleanser', 'ini.'], 'positive')\n",
      "(['ini', 'kesukaan', 'hampir', 'semua', 'orang', 'tapi', 'kenapa', 'di', 'aku', 'ga', 'cocok', 'ya', ':((', 'dia', 'bikin', 'kulitku', 'berasa', 'ketarik', 'kenceng', 'gitu,', 'udahannya', 'langsung', 'muncul', 'bruntusan', 'di', 'sekitaran', 'dahi', 'gitu', 'baiklaaah', 'kudu', 'ak', 'stop', '&', 'hibahkan', 'lagi', 'ke', 'orang', ':('], 'negative')\n",
      "(['setelah', 'lama', 'cari-cari', 'cleanser', 'yg', 'cocok', 'sama', 'kulitku', 'yg', 'kadang', 'suka', 'rewel', '(sensitive', 'dan', 'acne', 'prone),', 'finally', 'i', 'found', 'it!', 'ternyata', 'untuk', 'kulitku', 'ini', 'kalo', 'ada', 'embel-embel', 'anti', 'acne', 'etc', 'nya', 'malah', 'gak', 'cocok', 'dan', 'bikin', 'breakout', 'dan', 'justru', 'perfect', 'whip', 'ini', 'lah', 'yg', 'cocok', 'banget.', 'produk', 'ini', 'bisa', 'mengangkat', 'sisa', 'sisa', 'kotoran,', 'minyak', 'etc', 'tanpa', 'membuat', 'kulit', 'jadi', 'kering.', 'bruntusanku', 'justru', 'lebih', 'kalem', 'kalo', 'pake', 'produk', 'ini.', 'packagingnya', 'seperti', 'kebanyakan', 'facial', 'foam', 'lainnya,', 'plastic', 'tube.', 'teksturnya', 'creamy', 'banget,', 'jadi', 'cukup', 'pake', 'sedikiiit', 'aja,', 'busanya', 'langsung', 'banyak.', 'yes', 'it', 'has', 'fragrance,', 'tapi', 'gak', 'ganggu', 'dan', 'mild', 'wanginya.', 'ada', 'yg', 'bilang', 'bahwa', 'perfect', 'whip', 'ini', 'adalah', 'dupe', 'dari', 'foam', 'cleanser', 'jepang', 'merk', 'sebelah', '(s**i),', 'mungkin', 'bisa', 'jadi', 'sih,', 'soalnya', 'sama', 'sama', 'mild', 'tapi', 'bisa', 'bekerja', 'dengan', 'baik', 'di', 'kulit', 'sensitive.', 'repurchase?', 'definitely', 'yes!'], 'positive')\n",
      "(['entah', 'kenapa,', 'ini', 'satu-satunya', 'creamy', 'foam', 'yg', 'bikin', 'jerawatan', 'dari', 'pertama', 'kali', 'aku', 'pake', 'dan', 'bikin', 'kering.', 'jerawatnya', 'tiba-tiba', 'muncul', 'di', 'hidung,', 'jidat', 'sama', 'di', 'bawah', 'bibir', 'dan', 'muncul', 'bersamaan.', 'jadi', 'kuhentikan', 'saja.', 'bye'], 'negative')\n",
      "(['super', 'ga', 'cocok.', 'muka', 'ku', 'jadi', 'kering', 'dan', 'keliatan', 'kusem', 'padahal', 'muka', 'ku', 'super', 'oily.', 'harga', 'dan', 'kualitas', 'sama', 'saja', 'sih', 'hehe', 'beli', 'ini', 'karna', 'urgent', 'facewash', 'habis', 'dan', 'ga', 'sempet', 'ke', 'store', 'nya.', 'vit', 'c', 'dan', 'e', 'nya', 'ga', 'terlalu', 'kerasa', 'hasilnya', 'di', 'wajah.', 'untuk', 'jerawat?', 'ga', 'ngaruh', 'malah', 'jadi', 'menghitam', 'gitu', 'jerawat', 'pake', 'ini', ':(', 'masih', 'tinggal', 'setengah', 'dengan', 'terpaksa', 'aku', 'ga', 'pke.', 'dan', 'ga', 'ngerasa', 'kulit', 'jadi', 'halus', 'pake', 'ini', 'malah', 'jadi', 'kurang', 'enak', 'texturenya', 'di', 'pegang', 'hehe', 'apa', 'karna', 'ini', 'kurang', 'cocok', 'untuk', 'kulit', 'sensitive-oily?'], 'positive')\n",
      "(['bisa', 'dipakai', 'buat', 'gel', 'cleanser', 'yang', 'bisa', 'sekalian', 'menghapus', 'makeup,', 'dan', 'bisa', 'dipakai', 'sebagai', 'foaming', 'wash.', 'kalau', 'mau', 'dipakai', 'buat', 'foaming,', 'sebaiknya', 'pake', 'foaming', 'net', 'biar', 'busanya', 'banyak.', 'tube-nya', 'gede,', 'jadi', 'nggak', 'habis-habis'], 'positive')\n",
      "(['baik', 'lah', 'ini', 'update', 'review', 'aku.', 'jadi', 'awalnya,', 'honestly,', 'aku', 'gak', 'ngerasa', 'ada', 'perubahan', 'apapun', 'di', 'muka', 'aku', 'terus', 'tetep', 'mau', 'ditelatenin', 'dong.', 'tapi', 'ternyata', 'setelah', 'liat2', 'review', 'yang', 'jelek2', 'baru', 'nyadar', 'kalo', 'ada', 'sls', 'cuma', 'bingung', 'juga', 'kok', 'bisa', 'ga', 'berbusa', 'sama', 'sekali', 'yaa?', 'nahh', 'beberapa', 'hari', 'setelah', 'liat', 'review', 'itu', 'ternyataa', 'muncullah', 'bruntusan,', 'gak', 'cuma', 'di', 'jidat', 'tapi', 'juga', 'di', 'dagu,', 'pipi', 'bawah', 'sampe', 'rahang.', 'sedih', 'ga', 'cocok,', 'padahal', 'baru', 'repurchase', 'botol', 'gedenya', '?'], 'negative')\n",
      "(['ini', 'salah', 'satu', 'dari', 'sangat', 'sedikit', 'sabun', 'muka', 'yg', '100%', 'dijamin', 'ngga', 'bikin', 'kering.', 'the', 'perfect', 'kind', 'of', 'facial', 'wash!', 'im', 'surprised', 'no', 'one', 'has', 'given', 'reviews', 'yet', 'on', 'this', 'beauty', 'review.', 'tapi', 'kalo', 'di', 'forum2', 'fd', 'sudah', 'terkenal', 'sih', 'rave', 'nya', ':)', 'despite', 'its', 'crazy', 'price', 'for', 'a', 'facial', 'wash', '(!),', 'unfortunately,', 'i', 'could', 'not', 'find', 'anything', 'else', 'that', 'works', 'better', 'than', 'this', 'one.', 'selama', 'maybe', '15', 'tahun', 'ke', 'blakang,', 'udah', 'coba', 'berbagai', 'merk', 'lainnya', 'utk', 'facial', 'wash', '-normal', 'skin,', 'dari', 'murah', 'sampe', 'mahal:', 'ponds,', 'garnier,', 'biore,', 'tbs', '(beragam', 'tipe),', 'laneige,', 'sebamed,', 'kiehls.....dan', 'memang', 'juaranya', 'tetep', 'si', 'sk', '2', 'ini.', 'or', 'maybe', 'gw', 'aja', 'yg', 'belom', 'compare', 'dengan', 'brand', 'lain', 'yg', 'at', 'the', 'same', 'class', 'ya', ':)', 'gw', 'setiap', 'mlm', 'double', 'cleansing,', 'so', 'total', 'cuci', 'muka', 'sehari', '2x.', 'with', 'that', 'frequency,', 'a', 'good', 'facial', 'wash', 'that', \"doesn't\", 'dry', 'out', 'is', 'a', 'must.', 'this', 'one', 'will', 'leave', 'your', 'skin', 'soft', 'and', 'supple.', 'setau', 'gw', 'sih', 'ngga', 'ada', 'kandungan', 'whitening.', 'sama', 'kulit', 'suami', 'gw,', 'mertua,', 'semua', 'cocok.....', 'belom', 'pernah', 'denger', 'ada', 'anyone', 'yg', 'ga', 'cocok', 'sama', 'ni', 'product.', 'mungkin', 'cons-nya', 'adalah', 'dengan', 'harga', 'semahal', 'ini', 'dan', 'yg', 'dipromosikan', 'cuma', \"'gentle\", 'dan', \"soft'\", 'rasanya', 'kurang', 'pas', 'ya..', 'harusnya', 'dia', 'ada', 'tambahin', 'kandungan', 'anti', 'aging', 'or', 'whatever', 'yg', 'bisa', 'membuat', 'harganya', 'terasa', 'lebih', 'sepadan', ':p', 'but', 'again,', \"it's\", 'sk', '2.', 'so', 'of', 'course', 'we', 'should', 'not', 'expect', 'cheapies', 'in', 'the', 'first', 'place....', 'overall,', 'i', 'proudly', 'say', 'this', 'is', 'my', '#1', 'facial', 'wash', 'in', 'the', 'world!'], 'positive')\n",
      "(['i', 'am', 'not', 'feeling', 'this', 'facial', 'wash.', 'foamnya', 'susah', 'untuk', 'dihasilkan.', 'teksturnya', 'lembut', 'sih', 'tapi', 'foamnya', 'susah', 'keluar', 'dan', 'dibilas', 'juga.', 'it', 'also', 'leaves', 'residue.', 'the', 'scent', 'is', 'also', 'nope.', 'efeknya', 'juga', 'gak', 'ada', 'kalo', 'mencerahkan.', 'gak', 'begitu', 'bersih', 'hasilnya.', 'gak', 'cocok', 'sama', 'saya', 'karena', 'entah', 'kenapa', 'setelah', 'pake', 'ini,', 'wajah', 'jadi', 'kering', 'dan', 'sensitif.', 'i', 'am', 'sorry', 'wardah....'], 'negative')\n",
      "(['so', 'far', 'aku', 'cocok', 'sama', 'cetaphil', 'ini.', 'dan', 'sudah', 'purchase', 'yang', 'ke', 'dua', 'kalinya', 'dalam', 'botol', 'besar', 'buat', 'dipakai', 'bareng', 'sama', 'mami', 'dan', 'adik', 'aku', 'yang', 'kulitnya', 'cenderung', 'normal-dry', 'dan', 'cocok', 'juga', 'buat', 'mereka.', 'kalau', 'mereka', 'pakai', 'purely', 'buat', 'cuci', 'muka', 'tapi', 'aku', 'pakai', 'cetaphil', 'ini', 'pake', 'bersihin', 'make', 'up.', 'karena', 'cetaphil', 'ini', 'memang', 'bisa', 'dipake', 'tanpa', 'dan', 'atau', 'dengan', 'air.', 'aku', 'coba', 'buat', 'bersihin', 'make', 'up', 'eh', 'enak', 'dan', 'bersih', 'juga', 'dengan', 'dua', 'kali', 'apply,', 'dan', 'sampai', 'sekarang', 'stuck', 'pakai', 'ini', 'karena', 'after', 'feelingnya', 'yang', 'fresh', 'dan', 'nggak', 'lengket.', 'teksturenya', 'gel', 'gitu', 'nggak', 'ada', 'wanginya,', 'sangat', 'gentle', 'di', 'kulit.', 'definitely', 'gonna', 'do', 'a', 'repurchase!'], 'positive')\n",
      "(['kalo', 'lagi', 'banyak', 'jerawat', 'biasanya', 'aku', 'beralih', 'ke', 'facial', 'wash', 'ini', '.', 'karena', 'mengeringkan', 'jerawat', 'dengan', 'cepat', 'dan', 'mencegah', 'timbul', 'jerawat', 'baru.', 'aromanya', 'enak,', 'pakenya', 'pun', 'cukup', 'sedikit', 'karena', 'udah', 'berbusa', 'banyak', ',', 'awet', 'pastinya.', 'mengikis', 'minyak', 'dan', 'debu', 'dengan', 'baik', 'tapi', 'saran', 'yaa', 'kalo', 'tipe', 'kulitnya', 'gak', 'berminyak', 'jangan', 'pake', 'ini', 'karena', 'akan', 'terasa', 'kering', '.', 'tapi', 'kalo', 'tipe', 'kulit', 'oily', 'ini', 'recomended', 'banget'], 'positive')\n",
      "(['aku', 'pikir', 'semua', 'produk', 'wardah', 'itu', 'bagus', 'alhasil', 'aku', 'cobain', 'deh', 'yg', 'satu', 'ini.', 'tapi', 'sayang', 'ga', 'cocok', 'di', 'kulit', 'wajah', 'aku,', 'setelah', 'pemakaian', 'malah', 'kelihatan', 'kusam', 'gt', 'ga', 'bgt', 'deh', 'pokoknya', 'pdhl', 'lihat', 'review', 'yg', 'lain', 'pada', 'bagus', 'tapi', 'kenapa', 'di', 'aku', 'ngga?????'], 'negative')\n",
      "(['aku', 'pernah', 'pake', 'ini', 'pas', 'awal-awal', 'excited', 'banget', 'bawaannya', 'pengen', 'cuci', 'muka', 'terus,', 'setelah', '3', 'hari', 'pemakaian', 'jerawat', 'jadi', 'pada', 'keluar', 'di', 'pipi', 'buanyaaaakkkk', 'banget', 'dan', 'out', 'of', 'control', 'gitu', 't.t', 'bener', 'bener', 'banyak', 'banget', 'dan', 'sakit', 'banget.', 'akhirnya', 'aku', 'stop', 'pemakaian', 'dan', 'ga', 'pengen', 'pake', 'lagi.', 'aku', 'gatau', 'itu', 'karena', 'aku', 'ga', 'cocok', 'atau', 'memang', 'bikin', 'purging', 'tapi', 'aku', 'cari-cari', 'reviewnya', 'belum', 'pernah', 'nemu', 'orang', 'yang', 'ga', 'cocok', 'sama', 'cetaphil', 'ini.'], 'negative')\n",
      "(['salah', 'satu', 'produk', 'face', 'cleanser', 'terbaik', 'di', 'indonesia.', 'bikin', 'muka', 'bersih,', 'dan', 'bikin', 'jerawat', 'lumayan', 'berkurang', '(tidak', 'hilang', 'semua', 'tapi', 'jadi', 'tidak', 'bruntusan).', 'tapi', 'karena', 'lagi', 'bermasalah', 'dengan', 'komedo', 'dan', 'pori-pori,', 'jadinya', 'lagi', 'berpaling', 'dengan', 'face', 'cleanser', 'yang', 'lain.', 'great', 'product.'], 'negative')\n",
      "(['produk', 'ini', 'cocok', 'untuk', 'kulit', 'sensitif,', 'kering', 'dan', 'punya', 'masalah', 'atopik', 'dermatitis', 'seperti', 'saya', 'dan', 'anak', 'saya.', 'jangan', 'harapkan', 'busa', 'dari', 'cleanser', 'ini,', 'mungkin', 'karena', 'cleanser', 'ini', 'tidak', 'mengandung', 'sls.', 'juga', 'tidak', 'untuk', 'membersihkan', 'makeup,', 'sebaiknya', 'dipakai', 'pada', 'slot', 'second', 'cleanser.', 'pada', 'saat', 'rash', 'atau', 'kulit', 'sedang', 'iritasi,', 'hanya', 'cetaphil', 'ini', 'yang', 'saya', 'berani', 'pakai', 'sebagai', 'cleanser.', 'dengan', 'moisturizer', 'yang', 'cukup,', 'rash', 'biasanya', 'hilang', 'dihari', 'ke', '3.'], 'positive')\n",
      "(['cukup-sedih.', 'karna', 'untuk', 'kesekian', 'kalinya,', 'tidak', 'bisa', 'pakai', 'produk', 'cosrx.', 'beberapa', 'produk', 'sebelumnya', 'aku', 'stop', 'dan', 'jadiin', 'preloved', 'karna', 'ga', 'kasih', 'efek', 'apa', 'apa', 'di', 'wajah', 'aku.', 'dan', 'sekarang,', 'untuk', 'produk', 'ini,', 'aku', 'stop', 'karna', 'memang', 'tidak', 'cocok.', 'entah', 'kenapa', 'banyak', 'orang', 'yang', 'cocok', 'tapi', 'di', 'aku', 'malah', 'jadiin', 'bruntus', 'di', 'area', 'pipi', 'yang', 'banyak', 'bekas', 'jerawatnya.', 'kaya', 'seakan', 'mau', 'bangkitin', 'lagi', 'jerawat', 'jerawat', 'yang', 'udah', 'mati?', 'awal', 'pakai', 'suka', 'banget,', 'karna', 'dia', 'bener', 'bener', 'mild,', 'ga', 'bikin', 'kulit', 'kerasa', 'ketarik', 'sehabis', 'cuci', 'muka.', 'tapi', 'setelah', '2-3', 'hari', 'pemakaian', 'udah', 'mulai', 'muncul', 'bruntus,', 'dan', 'terus', 'tetep', 'aku', 'pakai.', 'maksa', 'karna', 'penasaran,', 'apa', 'produk', 'ini', 'yang', 'bikin', 'bruntus', 'atau', 'produk', 'lain', 'yang', 'juga', 'baru', 'aku', 'pakai.', 'tapi', 'setelah', 'produk', 'lain', 'yang', 'juga', 'baru', 'aku', 'pakai', 'di', 'stop,', 'ternyata', 'masih', 'juga', 'bruntus', 'dan', 'mulai', 'nyebar', 'ke', 'area', 'jidat.', 'akhirnya', 'aku', 'putuskan', 'untuk', 'bener', 'bener', 'stop', 'pemakaian.', 'sekarang', 'aku', 'pakai', 'krave', 'beauty', 'matcha', 'hemp,', 'berkatnya,', 'bruntusan', 'karna', 'cosrx', 'good', 'morning', 'gel', 'ini', 'lama', 'lama', 'mulai', 'hilang.'], 'negative')\n",
      "(['aku', 'beli', 'ini', 'untuk', 'digunakan', 'bergantian', 'dengan', 'seri', 'hadalabo', 'mild', 'peeling', 'facial', 'wash,', 'teskturnya', 'creamy', 'dan', 'super', 'lembut', 'waktu', 'digunakan', 'diwajah,', 'bikin', 'kulit', 'wajah', 'aku', 'jadi', 'lembab', 'dan', 'kenyal,', 'produk', 'ini', 'ga', 'ada', 'baunya', 'sama', 'sekali,', 'dan', 'busanya', 'sedikit', 'tapi', 'tetap', 'efek', 'diwajahku.', 'harganya', 'juga', 'sangat', 'terjangkau', 'ga', 'nyesel', 'beli', 'ini.'], 'positive')\n",
      "(['ekspektasi', 'lumayan', 'karna', 'liat', 'review2.', 'pertama', 'kali', 'coba', 'beruntus', 'muncul', 'di', 'pipi.', 'oke', 'kirain', 'purging', '/', 'adaptasi.', 'ke2', 'kali', 'coba,', 'numbuh', 'jerawat2', 'kecil.', 'ketiga', 'kali', 'coba', 'jerawat', 'jadi', 'gede', 'n', 'merah2.', 'kayaknya', 'emg', 'gapernah', 'cocok', 'sama', 'facewash', 'hadalabo.', 'dlu', 'pernah', 'pakai', 'yg', 'biru', 'dan', 'bikin', 'beruntusan', 'jg,', 'eh', 'yg', 'ini', 'malah', 'jerawat', 'super', 'gede', '&', 'merah.', 'fyi', 'mukaku', 'jarang', 'bahkan', 'hampir', 'ga', 'pernah', 'jerawatan.', 'emg', 'gajodoh', 'sama', 'hadalabo'], 'negative')\n",
      "(['face', 'wash', 'andalan', 'untuk', 'mengangkat', 'kulit', 'kusam.', 'aku', 'udah', 'pakai', 'face', 'wash', 'ini', 'selama', 'kurang', 'lebih', 'setahun', 'dan', 'efeknya', 'emang', 'kerasa', 'banget', 'di', 'wajah.', 'kulit', 'jadi', 'lebih', 'sehat', 'dan', 'cerah.', 'tamagohada', 'mild', 'peeling', 'face', 'wash', 'juga', 'sering', 'direkomendasikan', 'sebagai', 'face', 'wash', 'yang', 'punya', 'ph', 'pas', 'untuk', 'membersihkan', 'muka.', 'jadi', 'kalau', 'pakai', 'produk', 'ini', 'tuh', 'rasanya', 'kulit', 'jadi', 'bersih', 'banget', 'tapi', 'muka', 'nggak', 'kerasa', 'efek', 'muka', 'ketarik-tarik', 'gitu.'], 'positive')\n",
      "(['one', 'of', 'my', 'favorite', 'cleanser', 'adalah', 'ft', 'gentle', 'cleanser.', 'alasannya:', '1.', 'cocok', 'dikulitku', 'walaupun', 'sebenernya', 'kulit', 'aku', 'sensitif,', 'dan', 'ini', 'scented', '(dan', 'aku', 'suka', 'banget', 'sbnrnya', 'sabun', 'muka', 'yang', 'ada', 'wanginya,', 'dan', 'ini', 'seger', 'banget', 'wanginya).', '2.', 'bersih', 'banget', 'ngangkat', 'make', 'up', 'dan', 'sisa-sisa', 'kotoran.', 'asli', 'ini', 'sabun', 'muka', 'paling', 'bersih', 'kalau', 'untuk', 'aku.', '3.', 'efek', 'setelah', 'cuci', 'muka', 'pakai', 'ini,', 'langsung', 'glowing,', 'bercahaya', 'apalagi', 'kalau', 'setelahnya', 'langsung', 'disambung', 'dengan', 'pemakaian', 'produk', 'sk2', 'lainnya.', '4.', 'ukurannya', 'gede', 'banget', '120', 'gr', 'dan', 'sebenernya', 'ini', 'irit', 'pakainya,', 'karena', 'ga', 'perlu', 'aplikasi', 'banyak2.'], 'positive')\n",
      "(['emg', 'bener', 'skin', 'care', 'itu', 'cocok2an,', 'aku', 'beli', 'karna', 'mau', 'ngeganti', 'fw', 'aku', 'yg', 'lama', '(nivea', 'facial', 'foam)', 'tp', 'pertama', 'kali', 'nyobain', 'keriiiiiing', 'bgt', 'ketarik', 'sih', 'nggak', 'cuman', 'kering', 'bgt,', 'sampe2', 'bagian', 'hidung', 'aku', 'kering', 'kaya', 'bersisik', 'gitu'], 'negative')\n",
      "(['my', 'holy', 'grail', 'fw!!!', 'akhirnya', 'ketemu', 'juga', 'sabun', 'affordable', 'yg', 'bisa', 'gantiin', 'sabun', 'dokter', 'aku.', 'dipakenya', 'enak', 'banget,', 'busanya', 'banyak', 'dan', 'ga', 'susah', 'dibilas.', 'tiap', 'kali', 'abis', 'cuci', 'muka', 'kulit', 'rasanya', 'bersih', 'banget,', 'terus', 'ada', 'efek', 'mencerahkannya', 'juga.', 'wanginya', 'juga', 'enak', 'banget,', 'soft', 'dan', 'menenangkan', 'gitu.', 'sabun', 'ini', 'juga', 'gak', 'ngasi', 'efek', 'buruk', 'di', 'kulitku,', 'gak', 'bikin', 'breakout,', 'malah', 'produk', 'ini', 'mengurangi', 'produksi', 'minyak', 'di', 'mukaku.', 'aku', 'notice', 'bekas', 'jerawatku', 'jg', 'cepat', 'memudar', 'sejak', 'pake', 'produk', 'ini.', 'top', 'banget', 'lah', 'fw', 'ini,', 'murah', 'tapi', 'gak', 'murahan.', 'repurchase?', 'of', 'course!'], 'positive')\n",
      "(['nyoba', 'cetaphil', 'gara-gara', 'kena', 'racun', 'dari', 'adekku', 'yang', 'duluan', 'pake.', 'kulitnya', 'rada', 'sensitif', 'dan', 'breakout', 'di', 'jidat', 'lumayan', 'banyak.', 'emang', 'setelah', '2', 'minggu', 'pake', 'jerawatnya', 'kurang', 'dan', 'jadi', 'ilang', 'sama', 'sekali.', 'kalo', 'di', 'aku', '(yang', 'punya', 'tipe', 'kulit', 'wajah', 'kombinasi,', 'cenderung', 'oily)', 'juga', 'cocok-cocok', 'aja.', 'teksturnya', 'encer,', 'warnanya', 'bening,', 'kalo', 'dipake', 'busa', '&', 'baunya', 'juga', 'hampir', 'ga', 'ada.', 'this', 'is', 'the', 'ideal', 'type', 'of', 'face', 'wash', 'i', 'would', 'prefer', 'sebenernya.', 'karena', 'semakin', 'sedikit', 'busa', 'semakin', 'sedikit', 'bikin', 'kesat', 'muka.', 'dan', 'abis', 'dipake', 'ga', 'bikin', 'muka', 'kering', 'banget.', 'uniknya', 'lagi,', 'aku', 'baru', 'tau', 'ternyata', 'ini', 'bisa', 'dipake', 'tanpa', 'air', 'gitu.', 'pokoknya', 'ini', 'face', 'wash', 'recommended', 'untuk', 'semua', 'jenis', 'kulit', 'sih', 'menurutku', 'despite', 'of', 'the', 'price', 'ya.', 'packagingnya', 'juga', 'oke', 'ada', 'pumpnya', 'gitu', 'pake', 'sedikit', 'aja', 'cukup', 'kok', 'jadi', 'hemat.', 'repurchase?', 'yes.'], 'positive')\n",
      "(['satu2nya', 'fw', 'hadalabo', 'yang', 'ga', 'cocok', 'di', 'wajahku', ':(', 'pdhl', 'banyak', 'reviewnya', 'yg', 'blg', 'bagus.', 'tapi', 'di', 'mukaku', 'ini', 'bikin', 'gatel.', 'padahal', 'hl', 'yg', 'seri', 'ini', 'dilihat', 'dr', 'ingredients', 'nya', 'lebih', 'melembabkan,', 'jd', 'aku', 'pgn', 'bgt', 'pake.', 'sayang', 'ga', 'cocok', ':('], 'negative')\n",
      "(['kayaknya', 'aku', 'bener2', 'gak', 'cocok', 'sama', 'produk2', 'hada', 'labo', ':(', 'entah', 'itu', 'dari', 'semua', 'seri', 'fw', 'dan', 'yg', 'parah', 'aku', 'juga', 'gak', 'cocok', 'sama', 'yg', 'ini.', 'wajah', 'jadi', 'muncul', 'jerawat', 'gede2', 'gitu,', 'setelah', 'beli', 'produk2', 'hada', 'labo', 'pasti', 'gaa', 'pernah', 'habis', 'pakainya', 't.t', 'dulu', 'awal', 'pakai', 'sekitar', 'tahun', '2013,', 'komplit', 'versi', 'yg', 'gokujyun,', 'tekstur', 'wajah', 'emng', 'jd', 'jauh', 'lebih', 'baik', 'dan', 'cerahan', 'aja', 'tapi', 'ga', 'kuat', 'sama', 'jerawat', 'yg', 'gede2', 'gitu', 'akhirnya', 'ganti', 'series', 'shirojyun', 'tp', 'tetep', 'aja', 'jerawatnya', 'ga', 'bisa', 'kalem', 't.t', 'padahal', 'hasilnya', 'bagus', 'bgt', 'di', 'kulit', 'wajah', 'aku.kemarin', 'nyoba', 'beli', 'yg', 'ini,', 'belinya', 'pun', 'perlu', 'pertimbangan', 'yg', 'mateng', 'soalnya', 'kapok', 'pakai', 'produk2', 'hada', 'labo,', 'eh', 'bener', 'aja', 'donggg', 'aku', 'beli', 'fw', 'yg', 'ini', 'pakainya', 'pun', 'seminggu', 'cuma', '2', 'kali', 'tapi', 'tetep', 'muncul', 'jerawat', 'gede2', 'padahal', 'sebelumnya', 'wajahku', 'jarang', 'bgt', 'jerawatan', 'kalo', 'gaa', 'pas', 'pms', 'aja.', 'kulit', 'aku', 'tipenya', 'oily,', 'sensitive', 'to', 'acne', 'prone.', 'sekarang', 'fw', 'nya', 'ga', 'aku', 'pakai', 'padahal', 'masi', 'banyak', 'bgttttt!', 'repurchase?', 'no', 'way!'], 'negative')\n",
      "(['aku', 'suka', 'banget', 'untuk', 'coba-coba', 'produk', 'baru,', 'dan', 'produk', 'ini', 'menjadi', 'salah', 'satu', 'percobaanku', 'hehe.', 'penasaran', 'sih', 'karena', 'banyak', 'juga', 'review', 'positifnya.', 'setelah', 'pemakaian', 'beberapa', 'minggu,', 'wajah', 'ku', 'terlihat', 'lebih', 'bersih', 'dari', 'sebelumnya,', 'gak', 'bikin', 'iritasi', 'atau', 'bruntusan.', 'harganya', 'juga', 'murah', 'bangett!'], 'positive')\n",
      "(['ini', 'adalah', 'facial', 'wash', 'pengganti', 'ku', 'setelah', 'facial', 'skii', 'ku', 'habis.', 'enak', 'banget', 'di', 'wajah,', 'wajahku', 'gak', 'kering', 'padahal', 'di', 'tempatku', 'sekarang', 'lagi', 'kering', 'banget', 'cuacanya,', 'berangin', 'tapi', 'dingin.', 'dulu', 'wajahku', 'sering', 'banget', 'ngelupas,', 'tapi', 'sekarang', 'gak', 'pernah', 'ngelupas', 'sama', 'sekali.', 'taoi', 'mungkin', 'untuk', 'pencerahan', 'gak', 'ada', 'ya', 'cuma', 'bikin', 'lembab', 'aja.', 'aku', 'usap', 'sabun', 'ini', 'sampe', 'bener', 'bener', 'berbusa', 'dan', 'baru', 'aku', 'pakein', 'ke', 'wajah', 'busanya.', 'tapi', 'udah', 'terlanjur', 'cocok', 'sama', 'face', 'wash', 'ini,', 'bakaln', 'beli', 'lagi', 'pasti.', 'kemasannya', 'juga', 'praktis.', 'aku', 'langsung', 'beli', 'yang', 'gede.'], 'positive')\n",
      "(['sedih', 'banget.', 'setelah', 'lihat', 'banyak', 'review', 'bagus', 'tentang', 'produk', 'ini', 'di', 'kulit', 'kering,', 'tapi', 'nyatanya', 'it', 'didnt', 'work', 'so', 'well', 'on', 'my', 'dry', 'skin', ':(', 'kulit', 'ku', 'malah', 'ketarik', 'dan', 'dry', 'patches', 'yang', 'udah', 'lama', 'gak', 'muncul', 'jadi', 'muncul', 'lagi', 'karna', 'produk', 'ini', ':(', 'so', 'sad'], 'negative')\n",
      "(['sedih', 'banget', 'menghadapi', 'kenyataan,', 'bahwa', 'produk', 'holy', 'grail', 'sejuta', 'umat', 'ini', 'gak', 'bekerja', 'dengan', 'baik', 'di', 'kulitku.', 'produk', 'yang', 'di', 'gadang-gadang', 'apik', 'untuk', 'semua', 'jenis', 'kulit', 'apalagi', 'kulit', 'sensitive,', 'malah', 'bereaksi', 'cepat', 'di', 'kulitku.', 'awal', 'pakai', 'sudah', 'langsung', 'merah,', 'gatal,', 'berakhir', 'beruntusan', 'merah-merah', 'di', 'kulit.', 'hiks', 'ini', 'bukan', 'purging,', 'i', 'knew', 'my', 'skin', 'so', 'well.', 'so,', 'kesimpulannya', 'segala', 'yang', '\"hype\"', 'belum', 'tentu', 'cocok', 'di', 'kulit', 'kamu,', 'event', 'they', 'claim', \"it's\", 'good', 'also', 'for', 'sensitive', 'skin,', 'daann', 'bener', 'aja', 'yang', 'selama', 'ini', 'fd', 'edukasikan', 'sebelum', 'beli', 'produk', 'biasakan', '\"see', 'the', 'ingredients\".', 'be', 'smart', ';)'], 'negative')\n",
      "(['awalnya', 'nafsu', 'banget', 'beli', 'cleanser', 'cetaphil', 'ini,', 'karna', 'ngeliat', 'review', 'sana', 'sini', 'bagus', 'banget,', 'dan', 'pada', 'saat', 'beli', 'langsung', 'yakin', 'beli', 'size', 'yg', 'besar,', 'dan', 'setelah', 'saya', 'coba', 'emang', 'bagus', 'sih', 'muka', 'langsung', 'lembut', 'gitu,', 'tapi', 'bbrapa', 'hari', 'setelah', 'itu', 'jerawat', 'mulai', 'bermunculan,', 'okelah', 'saya', 'kita', 'itu', 'hanya', 'purging', 'dan', 'bakal', 'hilang', 'dlm', 'waktu', 'deket,', 'sebulan,', 'tiga', 'bulan,', 'empat', 'bulan', 'berlalu', 'muka', 'saya', 'makin', 'banyak', 'jerawat', 'yg', 'numbuh,', 'dan', 'akhirnya', 'saya', 'berenti', 'memakai', 'cleanser', 'cetaphil', 'ini,', 'karna', 'sudah', 'gak', 'tahan', 'liat', 'jerawat', 'menyerbu', 'muka', 'ini?.', 'dan', 'mungkin', 'ini', 'gak', 'cocok', 'dimuka', 'saya,', 'blm', 'tentu', 'juga', 'gak', 'cocok', 'dimuka', 'kalian,', 'jadi', 'intinya', 'semunya', 'itu', 'cocok', 'cocokan', '...', '?'], 'negative')\n",
      "(['muka', 'jadi', 'berminyak', 'banget!!!', 'terutama', 'd', 'daerah', 't', 'dan', 'sehabis', 'bangun', 'tidur.', 'muncul', 'bintik\"', 'merah', 'alias', 'mbruntus', 'kalo', 'orang', 'jawa', 'bilang', 'dan', 'kalo', 'd', 'pake', 'kelamaan', 'jadi', 'jerawatan.', 'mana', 'busanya', 'licin', 'banget', 'jadi', 'sering', 'jatoh', 'k', 'lantai.', 'adeuh...ternyata', 'ga', 'semua', 'produk', 'wardah', 'cocok', 'd', 'aq', ':('], 'negative')\n",
      "(['produk', 'ini', 'salah', 'satu', 'produk', 'sk', 'ii', 'yang', 'paling', 'hemat', 'menurutku.', 'untuk', '120gr', 'saja', 'cukup', 'untuk', '8-10', 'bulan,', 'tapi', 'balik', 'lagi', 'ke', 'pemakaian', 'tiap', 'orang', 'ya..', 'kalau', 'di', 'aku,', 'pakai', 'sedikit', 'saja', 'sudah', 'cukup,', 'tidak', 'harus', '2-3', 'cm', 'seperti', 'yang', 'tertulis', 'di', 'instruction-nya.', 'paling', 'suka', 'ama', 'aroma', 'dan', 'rasa', 'bersih', 'setelah', 'pakai', 'produk', 'ini.'], 'positive')\n",
      "(['ini', 'sabun', 'muka', 'holygrail', 'aku.', 'keren,', 'suka,', 'tekstur', 'cair', 'pakai', 'g', 'perlu', 'banyak', 'banyak,,', 'sebiji', 'jagung', 'aja', 'uda', 'angkat', 'kotoran', 'kok.', 'dulu', 'awalnya', 'beli', 'yang', 'travel', 'size,', 'tapi', 'nagih', 'beli', 'full', 'size', 'yang', 'segede', 'gentong.', 'ini', 'menurutku', 'efeknya', 'dahsyat', 'buat', 'jerawat', 'mukaku,', 'langsung', 'yang', 'tadinya', 'mau', 'radang', 'jd', 'gak', 'berani', 'ngeradang.', ':3'], 'negative')\n",
      "(['liat', 'review', 'bagus', 'tentang', 'produk', 'ini', 'dari', 'banyak', 'beauty', 'blogger', 'dan', 'vlogger,', 'tergiurlah', 'aku', 'untuk', 'coba', 'produk', 'ini', 'dan', 'waktu', 'itu', 'aku', 'baru', 'lepas', 'krim', 'dokter', 'yang', 'malah', 'bikin', 'beruntusan', ',pas', 'nyoba', 'sih', 'aku', 'seneng', 'banget', 'beruntusannya', 'ilang,', 'cepet', 'pula', 'ilangnya', 'tapiii', 'makin', 'lama', 'malah', 'bikin', 'jerawatan', 'gede', 'gede,', 'pas', 'coba', 'stop', 'dan', 'beralih', 'ke', 'produk', 'lain', 'kulit', 'aku', 'membaik'], 'negative')\n",
      "(['maaf', 'buat', 'para', 'pecinta', 'cosrx', 'ini.', 'sungguh', 'deh', 'aku', 'pengen', 'suka', 'cleanser', 'ini', 'tp', 'ya', 'ampun...', 'bikin', 'kering', 'bgt', 'pas', 'beli', 'tuh', 'kebeli', 'bgt', 'sm', 'claim', 'mereka', 'bahwa', 'cleanser', 'ini', 'ph', 'nya', '5.5', 'yg', 'mana', 'aman', 'ya', 'buat', 'semua', 'kulit', 'cuma..', 'ternyata', 'dia', 'ada', 'fungsi', 'lain', 'yaitu', 'gentle', 'exfoliate', 'yg', 'ternyata', 'ga', 'cukup', 'gentle', 'buat', 'kulit', 'ku.', 'jd', 'monmaap,', 'dia', 'ga', 'rekomen', 'buat', 'yg', 'kukitnya', 'serupa', 'dg', 'ku.', 'yg', 'ada', 'makin', 'iritasi', 'kulitnya'], 'positive')\n",
      "(['cetaphil', 'bikin', 'kulit', 'aku', 'sehat', 'kembali,', 'tadinya', 'sering', 'bgt', 'gatel2', 'kering', 'dan', 'akhirnya', 'membekas', 'di', 'tangan,', 'kaki', 'dll.', 'udh', 'lama', 'lepas', 'dr', 'sabun', 'yg', 'ada', 'wangi2annya', 'karena', 'produk', 'ini', 'so', 'far', 'paling', 'cocok', 'buat', 'badan', 'dan', 'muka', 'kombinasiku.', 'terutama', 'di', 'wajah', 'gak', 'ada', 'lagi', 'rasa', 'ketarik', 'sehabis', 'cuci', 'muka.'], 'positive')\n",
      "(['suka,', 'suka', 'dan', 'sukaaaa', 'banget', 'sama', 'face', 'wash', 'dari', 'hadalabo', 'ini.', 'gak', 'bikin', 'kulit', 'berminyak', 'makin', 'berminyak.', 'tersedia', 'ukuran', 'kecil', 'yang', 'bisa', 'dibawa', 'travelling.', 'harganyapun', 'gak', 'bikin', 'kantong', 'jebol.', 'udah', 'gitu', 'selesai', 'membasuh', 'muka', 'pakai', 'air,', 'kulit', 'muka', 'terasa', 'bersih,', 'kenyal', 'dan', 'lembut.', 'efek', 'sampingnya....tangan', 'nyolekin', 'pipi', 'mlulu', ':d'], 'positive')\n",
      "(['awalnya', 'coba', 'yg', 'starter', 'pack', 'kecil', '(anti', 'ageing', 'series)', 'jadinya', 'suka', 'bgt', 'pake', 'ini', 'karna', 'betul2', 'ngangkat', 'residu', 'di', 'muka,', 'setelah', 'pake', 'ini', 'muka', 'ringan', 'bgt', 'tanpa', 'ngerasa', 'kering.', 'tapi', 'sayang', 'no', 'fragrance,', 'jadi', 'masih', 'suka', 'tergoda', 'ke', 'facial', 'wash', 'lain', 'hehe'], 'negative')\n",
      "(['tertarik', 'beli', 'krn', 'claimnya', 'gentle', 'cleanser', 'dan', 'favorit', 'orang2,', 'tp', 'ternyata', 'aku', 'ga', 'cocok', 'pake', 'ini', 'huhu', 'malah', 'jd', 'bruntusan,', 'gatel,', 'ga', 'nyaman', 'aja', 'rasanya', 'abis', 'cuci', 'muka.', 'dan', 'itu', 'keliatan', 'setelah', 'pake', '1x', 'doang,', 'pdhl', 'berharap', 'bgt', 'bisa', 'cocok', 'pake', 'ini', 'huhu'], 'negative')\n",
      "(['jadi', 'setelah', 'seminggu', 'pakai', 'rangkaian', \"pond's\", 'acne', 'clear', 'solution', 'ini,', 'jerawat', 'saya', 'bukannya', 'ngurang', 'tapi', 'makin', 'banyak.', 'muka', 'breakout', 'parah,', 'dan', 'menghilangkannya', 'cukup', 'lama.', 'ternyata', 'pas', 'nyoba', 'produk', \"pond's\", 'lain', 'juga', 'gak', 'cocok', 'dimuka', 'saya.', ':('], 'negative')\n",
      "(['cleanser', 'jagoan', 'waktu', 'jaman', 'kuliahan.', 'awalnya', 'cuma', 'iseng', 'pake', 'karena', 'dibeliin', 'mama,', 'ternyata', 'bagus', 'sekali', 'untuk', 'kita', 'yang', 'jerawatnya', 'bandel,', 'meskipun', 'gak', 'cepat', 'cara', 'kerjanya,', 'tapi', 'sangat', 'direkomendasikan', 'untuk', 'kalian', 'yang', 'jerawatnya', 'bandel', 'dan', 'sulit', 'hilang'], 'negative')\n",
      "(['belinya', 'kemaren', 'karena', 'lagi', 'jerawatan', 'dan', 'setelah', 'baca', 'review', 'dari', 'putricaya.', 'harganya', 'murah', 'baunya', 'juga', 'enak', 'aja.', 'lebih', 'seperti', 'facial', 'foam', 'dibanding', 'peeling.', 'ga', 'berasa', 'ada', 'efek', 'exfoliate', 'sih', 'sampai', 'sekarang', 'dan', 'bikin', 'muka', 'kering', 'malah', 'jerawat', 'cepat', 'kering', 'dan', 'sekarang', 'bekasnya', 'mulai', 'pudar.', '2', 'minggu', 'terakhir', 'cuma', 'nambah', 'ini', 'aja', 'kok', 'ke', 'skincare', 'regime', 'tapi', 'hasilnya', 'bagus', 'ke', 'jerawat.'], 'negative')\n",
      "(['cocok', 'untuk', 'semua', 'jenis', 'kulit.', 'which', 'is', 'dr', 'oily', 'sampe', 'sensitive', 'dan', 'dry.', 'kulit', 'saya', 'yang', 'kadang', 'oily', 'bngt', 'kadang', 'kering', 'bngt', 'kadang', 'merah2', 'ruam.', 'harganya', 'worth', 'it', 'lah', 'dengan', 'ukuran', 'tube', 'yg', 'besar', '(150ml)', 'tp', 'kalau', 'mau', 'coba2', 'dulu', 'banyak', 'yg', 'jual', 'share', 'size', 'di', 'online', 'shop-app.'], 'positive')\n",
      "(['permasalahan', 'paling', 'kesel', 'itu', 'komedo,', 'udah', 'pake', 'bermacam-macam', 'produk', 'facial', 'wash', 'bener-bener', 'ga', 'ada', 'yang', 'cocok,', 'karena', 'kulit', 'aq', 'berminyak', 'tapi', 't', 'zone', 'kering', 'komedo', 'pori-pori', 'besar,', 'jerawat', 'kecil-kecil', 'lengkap', 'sudah.', 'jujur', 'untuk', 'product', 'ponds', 'aq', 'ga', 'pernah', 'cocok', 'setiap', 'pake', 'selalu', 'aja', 'timbul', 'jerawat', 'ato', 'komedo', 'makin', 'numpuk.', 'tapi', 'untuk', 'product', 'ponds', 'satu', 'ini,', 'beda', 'banget...nah', 'setelah', 'penesaran', 'aq', 'coba', 'deh', 'product', 'ponds', 'agne', 'solution', 'ini,', 'bener-bener', 'amazing', '(agak', 'lebay', 'tapi', 'sure!!!!)', 'ini', 'bagus', 'aq', 'bener-bener', 'ga', 'pnya', 'komedo', 'pori-pori', 'aq', 'bener2', 'ketutup,', 'bekas-bekas', 'jerawat', 'aq', 'lama-lama', 'pudar,', 'recommended??', 'yes,,', 'repurchase??', 'of', 'course...'], 'negative')\n",
      "(['love', 'it!', 'ini', 'bener', 'bener', 'facial', 'wash', 'kesayangan', 'aku', 'bgt.', 'bener', 'bener', 'ngebantu', 'wajahku', 'yang', 'berjerawat,', 'kalo', 'mau', 'datang', 'bulan', 'selalu', 'bakal', 'muncul', 'jerawat', 'dan', 'nyeri,', 'kalo', 'pke', 'facial', 'wash', 'ini', 'selalu', 'jerawatnya', 'ga', 'jadi', 'muncul', 'dan', 'ga', 'sakit', 'lagi.', 'tapi', 'emang', 'semua', 'tergantung', 'kulit', 'kita', 'masing2', 'sih,', 'temenku', 'pake', 'ini', 'ga', 'cocok', 'wajahnya', 'jadi', 'breakout', 'parah', 'tp', 'kalo', 'aku', 'cocok', 'bgt', 'sama', 'produk', 'satu', 'ini!!', 'repurchase?', 'yes!!'], 'negative')\n",
      "(['nyoba', 'wardah', 'gentle', 'facial', 'wash', 'ini', 'pertama', 'kali', 'krn', 'facial', 'wash', 'yg', 'biasa', 'dipake', 'lg', 'out', 'of', 'stock', 'terus', 'bingung', 'mau', 'pake', 'apa,', 'tiba-tiba', 'keliat', 'di', 'indomaret', 'yaudah', 'dicoba', 'dulu.', 'pertama', 'kali', 'make', 'sih', 'rasanya', 'enak,', 'kulit', 'kenyal', 'krn', 'mgkn', 'gentle', 'itu.', 'setelah', 'beberapa', 'kali', 'make', 'malah', 'break', 'out', 'parah,', 'muncul', 'jerawat', 'satu-satu,', 'kulit', 'kering', 'dibagian', 'sekitar', 'mulut.', 'kirain', 'krn', 'faktor', 'penyesuaian', 'cuaca', 'krn', 'aku', 'baru', 'nyampe', 'suatu', 'kota,', 'terus', 'nyoba', 'pake', 'lg', 'ternyata', 'emg', 'bnr-bnr', 'ga', 'cocok.', 'sedih', 'sih', 'krn', 'kebanyakan', 'tmn-tmn', 'cocok', 'make', 'produk', 'wardah', 'tp', 'buat', 'aku', 'emg', 'a', 'big', 'no', 'no.', 'sorry', 'to', 'say.'], 'negative')\n",
      "(['yeay,', 'setelah', 'sekian', 'lama', 'berkutat', 'dengan', 'fw', 'untuk', 'acne,', 'kali', 'ini', 'aku', 'memberanikan', 'diri', 'nyobain', 'fw', 'yang', 'biasa', 'aja.', 'dan', 'seneng', 'banget', 'karena', 'hasilnya', 'oke.', 'gak', 'keset', 'gitu', 'ketika', 'dibilas', 'dan', 'gak', 'bikin', 'breakout.', 'yes', 'for', 'repurchase'], 'positive')\n",
      "(['aku', 'jatuh', 'cintaaa', 'bangettt', 'sama', 'produk', 'iniiii.', 'ga', 'bikin', 'muka', 'aku', 'jerawatannn.', 'make', 'ini', 'udah', '2th.', 'sebelum', 'make', 'yg', 'ini', 'aku', 'pake', 'yg', 'putih,', 'tapi', 'udah', 'ga', 'keluar', 'lagi', 'jadi', 'gantinya', 'yg', 'ini.', 'repurchase?', 'yesss'], 'positive')\n",
      "(['pakai', 'produk', 'ini', 'dan', 'sealing', 'gell', 'nya', 'saat', 'pubertas', 'dan', 'jerawat', 'lagi', 'banyak', 'muncul.', 'efek', 'nya', 'gak', 'berasa', 'dan', 'malah', 'bikin', 'muka', 'berasa', 'ketarik-tarik', 'dan', 'kering.', 'alhasil', 'karena', 'bikin', 'muka', 'kering,', 'wajah', 'jadi', 'makin', 'banyak', 'produksi', 'sebum', 'dan', 'akhirnya', 'sama', 'aja,', 'jerawat', 'tetap', 'muncul.', 'aku', 'saranin', 'kalo', 'sehabis', 'pakai', 'sabun', 'cuci', 'muka', 'malah', 'berasa', 'kering,', 'siap2', 'aja', 'kulit', 'jadi', 'makin', 'banyak', 'produksi', 'sebum', '(minyak)'], 'positive')\n",
      "(['ini', 'hg', 'aku!', 'pake', 'ini', 'dari', 'jaman', 'kapan', 'lupa,', 'dan', 'udah', 'ngabisin', 'berpuluh-puluh', 'tube', 'kayaknya.', 'belum', 'bisa', 'nemu', 'fw', 'yang', 'menandingi', 'fw', 'acnes', 'ini.', 'hahaha.', 'setiap', 'muncul', 'jerawat', 'udah', 'wajib', 'rajin', 'bersihin', 'muka', 'pake', 'ini', 'dan', 'kalo', 'lagi', 'rajin', 'tambah', 'deh', 'totol', 'pake', 'acnes', 'sealing', 'gel', 'dan', 'taraa', 'ga', 'ada', 'seminggu', 'udah', 'mulus', 'lagi.', 'kalo', 'pake', 'fw', 'lain', 'suka', 'bruntusan,', 'selama', 'aku', 'pake', 'fw', 'acnes', 'adem', 'ayem', 'kulit', 'wajah', 'aku.', 'jadi', 'ga', 'mau', 'pindah', 'yang', 'lain'], 'positive')\n",
      "(['gk', 'recom', 'untuk', 'dry', 'skin', 'karena', 'habis', 'dibilas', 'akan', 'kerasa', 'kenceng', 'ketarik', 'keset', 'banget,tpi', 'di', 'mama', 'aku', 'yg', 'normal', 'mama', 'cocok', 'suka', 'banget', 'pake', 'ini..harganya', 'murah', 'dan', 'gampang', 'nyari', 'nya,tpi', 'baik', 'di', 'aku', 'dan', 'mama', 'pun', 'gk', 'ngerasa', 'efek', 'bright', 'ato', 'smooth', 'nya', 'sih'], 'positive')\n",
      "(['beli', 'ini', 'karena', 'liat', 'kakaknya', 'temenku', 'pori', 'porinya', 'lebih', 'kalem', 'pakai', 'ini.', 'latah', 'beli,', 'pas', 'dicoba', 'zonk', 'banget.', 'terlalu', 'kering', '(', 'mungkin', 'karena', 'low', 'ph', 'itu', 'ya', '),', 'aku', 'pakai', 'ini', 'pas', 'lagi', 'liburan', 'di', 'bandung', 'dan', 'makin', 'parah', 'dong', 'kulit', 'kering', 'dehydrated', 'gitu', 'ampe', 'banyak', 'dry', 'patch', 'padahal', 'kulitku', 'oily', 'parah.', 'panik', 'banget', 'pake', 'ini', 'jadi', 'bencana.', 'repurchase?', 'nooo'], 'negative')\n",
      "(['mahal', 'walau', 'isinya', 'banyak.', 'pertama', 'nyoba', 'karena', 'banyak', 'yang', 'bilang', 'ini', 'cocok', 'untuk', 'yang', 'kulit', 'sensitif,', 'tapi', 'setelah', 'kucoba', 'ternyata', \"it's\", 'a', 'big', 'no', 'no', 'buat', 'kulitku.', 'yang', 'ada', 'setelah', 'ku', 'pakai', 'malah', 'kulit', 'muka', 'ku', 'mengelupas.', 'ditahan-tahanin', 'sampe', '2', 'minggu', 'pakai', 'tapi', 'rupanya', 'percumah.', 'emang', 'ga', 'cocok', 'sama', 'kulitku,', 'yang', 'ada', 'kuliitku', 'jadi', 'makin', 'perih.', 'alhasil', 'di', 'telantarin', 'aja', 'itu', 'sisanya', 'di', 'botol', 'yang', 'gede', 'banget', 'itu.'], 'negative')\n",
      "(['jadi', 'ceritanya', 'kemaren', 'abis', 'nyoba', 'sabun', 'cuci', 'muka', 'yg', 'lg', 'ngetrend', 'krn', 'buasanya', 'buanyak', 'itu.', 'hasilnya?', 'wajah', 'bruntusan+jerwat', 'segede', 'bisul', 'muncul', 'smua.', 'akhirnya', 'stop', 'ga', 'make', 'lg', 'dan', 'beralih', 'ke', 'cetaphil', 'krn', 'hasil', 'googling', 'sabun', 'cuci', 'muka', 'yg', 'cocok', 'utk', 'kulit', 'sensitif', 'ya', 'cetaphil', 'ini...', 'alhamdulillah', 'aku', 'cocok,', 'ngga', 'bruntusan', 'dan', 'jerawat', 'yg', 'kmren', 'mulai', 'mereda...', 'ah', 'nyesel', 'banget', 'knapa', 'ngga', 'dari', 'dulu', 'aku', 'make', 'cetaphil', ':(', 'repurchase?', 'yessss,', 'mau', 'beli', 'yg', 'botol', 'gede', 'update', 'setelah', '1', 'bulan', 'pake:', 'beruntusan', 'ga', 'ilang2,', 'ada', 'terus', 'tiap', 'hari.', 'setelah', 'stop,', 'wajah', 'kembali', 'normal', 'seperti', 'biasa.', 'repurchase?', 'nononono'], 'negative')\n",
      "(['karena', 'produk', 'ini', 'di', 'hype', 'banget', 'sama', 'beberapa', 'beauty', 'influencer', 'sampai', 'ada', 'salah', 'satu', 'yang', 'menyebutkan', 'ini', 'jadi', 'fw', 'favoritnya', 'aku', 'jadi', 'kepincut', 'beli.', 'awal', 'nya', 'bagus', 'banget', 'di', 'kulit', 'bikin', 'keliatan', 'cerah', 'dan', 'bersih', 'setelah', 'pemakaian', 'tapi', 'setelah', 'semingguan', 'lebih', 'di', 'pakai', 'ngerasa', 'kulit', 'jadi', 'gampang', 'kering', 'dan', 'ketarik', 'gitu', 'setelah', 'pakai', 'ini', 'dan', 'sadar', 'juga', 'ada', 'beberapa', 'bruntusan', 'muncul', 'di', 'wajah', 'karena', 'produk', 'nya', 'yang', 'bikin', 'kering', 'dan', 'gatal'], 'negative')\n",
      "(['kempesin', 'jerawat', 'secara', 'cepat,', 'kalau', 'lagi', 'jerawat', 'makenya', 'ini..', 'cuci', 'muka', 'malem', 'bsok', 'paginya', 'jerawat', 'kempes.', 'trus', 'juga', 'ada', 'scrub2nya', 'yang', 'dapat', 'mengexfloat', 'kulit', 'untuk', 'lebih', 'bersih.', 'pakenya', 'gak', 'tiap', 'hari,', 'kalau', 'ada', 'jerawat', 'ajah', 'baru', 'make.'], 'negative')\n",
      "(['aku', 'dapat', 'sample', 'ini', 'saat', 'aku', 'beli', 'facial', 'treatment', 'essencenya.', 'samplenya', 'sendiri', 'dapat', 'aku', 'pakai', 'hingga', '2', 'minggu', 'dan', 'setelah', 'pakai', 'sabun', 'ini,', 'wajah', 'aku', 'tampak', 'lebih', 'putih', 'dari', 'biasanya', 'dan', 'juga', 'saat', 'memakai', 'makeup', 'aku', 'tidak', 'perlu', 'memakai', 'foundation', 'lagi', 'karena', 'sekarang', 'kulitku', 'sudah', 'putih', 'dan', 'cerah'], 'negative')\n",
      "(['ini', 'bener2', 'face', 'wash', 'favoritku!', 'dulu', 'mukaku', 'penuh', 'dengan', 'jerawat', 'karena', 'abis', 'pake', 'krim', 'gajebo.', 'saat', 'itu', 'aku', 'direkomendasiin', 'temen', 'pake', 'ini.', 'dan', 'hasilnya', 'kulitku', 'berangsur2', 'pulih', 'dan', 'semakin', 'membaik!', 'sekarang', 'kulitku', 'tinggal', 'bruntusan', 'kecil2nya', 'aja', 'yang', 'belum', 'hilang.', 'nanti', 'mau', 'mencoba', 'yamg', 'acnes', 'foaming', 'wash.', 'after', 'all,', 'i', 'really', 'recommend', 'this', 'product', 'for', 'you.'], 'negative')\n",
      "(['awal', 'pake', 'ini', 'muka', 'fine2', 'aja.', 'aku', 'makenya', 'seminggu', '3', 'kali.', 'nah', 'setelah', '2', 'minggu', 'mukaku', 'oemjiiiii', 'jerawat', 'bermunculan:(((', 'terutama', 'di', 't', 'zone', 'banyak', 'bgt', 'bener2', 'yg', 'kecil', 'ada', 'gede', 'ada:(', 'oiya', 'fyi', 'kulit', 'ku', 'kombinasi', 'oily', 'jd', 'kayaknya', 'ga', 'cocok', 'sama', 'facial', 'wash', 'hada', 'labo', 'yg', 'iniii', 'huuu:('], 'negative')\n",
      "(['baru', 'kali', 'ini', 'aku', 'pake', 'pembersih', 'muka', 'yg', 'tidak', 'dikhususkan', 'untuk', 'jenis', 'kulitku', 'yang', 'berminyak', 'n', 'proacne', '(sebelumnya', 'aku', 'selalu', 'pakai', 'pembersih', 'yg', 'ada', 'bahan', 'tea', 'tree/free', 'oily),', 'dan', 'cleanser', 'ini', 'ternyata', 'cocok', 'banget', 'aku', 'pake.', 'bener\"', 'bikin', 'kulit', 'bersih', 'dan', 'lembut.', 'aku', 'udah', 'setahun', 'lebih', 'pakai', 'sk-ii', 'dan', 'ini', 'rangkaian', 'produk', 'sk-ii', 'yang', 'wajib', 'aku', 'repurchase', 'terus', 'walaupun', 'harganya', 'menguras', 'dompetku', 'hihihi'], 'positive')\n",
      "(['super', 'duper', 'baguss!!', 'scrubnya', 'halus', 'bangett', 'dan', 'bikin', 'wajah', 'kerasa', 'bener-bener', 'bersih', 'tapi', 'ga', 'ketarik-tarik.', 'packagingnya', 'juga', 'gemes', 'warnanya', '?', 'tapi', 'agak', 'terlalu', 'mahal', 'buat', 'kantong', 'mahasiswa', 'untuk', 'ukuran', 'sabun', 'cuci', 'muka'], 'positive')\n",
      "(['bau', 'nya', 'enak', 'banget,', 'aku', 'suka..', 'rosey', 'gitu', 'tapi', 'ga', 'terlalu', 'kuat..', 'dia', 'lembut,', 'ga', 'bikin', 'muka', 'kering', 'tapi', 'tetep', 'besih', 'jadi', 'ga', 'bikin', 'break', 'out..', 'pass', 'aja', 'sayangnya', 'satu..', 'mahal', 'uhuuuuy..', 'jadi', 'make', 'nya', 'disayang', 'sayang'], 'positive')\n",
      "(['awal', 'aku', 'pengen', 'lepas', 'dr', 'produk', 'dokter', 'gtu,', 'aku', 'stop', 'total', 'semuanya', 'wlau', 'pun', 'cocok', '?,', 'dan', 'aku', 'kek', 'mulai', 'tertarik', 'sma', 'produk', 'wardah', 'jdi', 'beli', 'deh', 'sepaket', 'yg', 'lightening', 'trmsuk', 'sun', 'protectionnya,', 'sebelum', 'aku', 'pakek', 'produk', 'wrdh,', 'aku', 'ga', 'pakek', 'apa\"', 'dlu', 'selama', 'kurg', 'lebih', '2mnggu,', 'biar', 'ga', 'kagetan', 'muka', 'ku,', 'tapi', 'pas', 'aku', 'udah', 'coba', 'facial', 'wash', 'lightening', 'nya', 'bru', '2x', 'pakek', 'mukaku', 'malah', 'kek', 'kusam', 'gtu,', 'terus', 'malemnya', 'mulai', 'nongol', 'bintik\"', 'kecil\"', 'gtu', 'dan', 'besoknya', 'pas', 'aku', 'bangun', 'mukaku', 'udah', 'pada', 'bruntusan', 'bnyak', 'banget', 'terutama', 'are', 't', 'di', 'muka', '?', 'emg', 'sih', 'produk', 'ini', 'tu', 'friendly', 'banget', 'harganya,', 'tapi', 'sayang', 'aku', 'ga', 'cocok', 'sama', 'sekali', ':('], 'negative')\n",
      "(['aku', 'ga', 'cocok', 'sama', 'series', 'wardah', 'apapun', 'itu', 'dikulit', 'aku', 'gatel', 'gatel', 'bangettt', 'sampai', 'bentol', 'bentol', 'waktu', 'itu', 'karena', 'facial', 'wash', 'uda', 'habis', 'terus', 'cobain', 'punya', 'wardah', 'yang', 'ini', 'ga', 'nunggu', '5', 'menit', 'habis', 'bilas', 'langsung', 'gatal', 'gatal', 'kenapa', 'ya'], 'negative')\n",
      "(['baca', 'review2', 'ttg', 'produk', 'ini', 'dan', 'berhasil', 'meyakinkan', 'diri', 'buat', 'nyobain', 'dan', 'bener2', 'suka', 'sama', 'hasilnya.', 'pernah', 'sih', 'beberapa', 'kali', 'ngerasa', 'kayak', 'ketarik', 'gitu', 'cuma', 'pas', 'awal2', 'aja,', 'sekarang', 'udah', 'beberapa', 'kali', 'pake', 'engga', 'lagi.', 'tiap', 'abis', 'pake,', 'rasanya', 'lembuuut', 'dan', 'kenyal', 'banget', 'muka', 'aku.', 'and', \"i'm\", 'going', 'to', 're-purchase', 'this', 'product', 'again!'], 'negative')\n",
      "(['beli', 'ini', 'karena', 'katanya', 'ini', 'produk', 'halal,waktu', 'itu', '12.000', 'sekian,pake', 'ini', 'malah', 'kaya', 'ninggalin', 'minyak', 'gtuh,wajah', 'jadi', 'tambah', 'berminyak,ga', 'memutihkan,ga', 'foamy', 'gtuh,habis', 'dalam', 'waktu', '1', 'bulan.menurut', 'aku', 'ini', 'worst', 'product,sorry'], 'negative')\n",
      "(['ini', 'facial', 'foam', 'andalan', 'banget.', 'awalnya', 'tergoda', 'iklan', 'nya', 'yg', 'bisa', 'ilangin', 'jerawat', '3', 'hari', 'dan', 'ternyata', 'ini', 'super', 'bagus', 'di', 'kulit', 'aku', 'yg', 'oily.', 'dia', 'emang', 'agak', 'bikin', 'kering', 'cuma', 'abis', 'cuci', 'muka', 'aku', 'langsung', 'pake', 'essence', 'sama', 'moiturizer', 'jd', 'gak', 'kering', 'lg.', 'seneng', 'deh', 'pake', 'ini,', 'murah,', 'bikin', 'jerawat', 'ilang,', 'muka', 'bersih.', 'love', 'pokoknya.', 'repurchase,', 'ya', 'pastilah', ':)'], 'positive')\n",
      "(['kirain', 'dengan', 'ph', 'yg', 'bagus', 'buat', 'kulit', 'akan', 'ngurangin', 'masalah', 'dikulit,', 'ternyata', 'salah', 'sangka', 'deh..', 'setelah', 'berjuang', 'break', 'out', 'dan', 'selama', '6', 'bulan', 'kulit', 'udah', 'bagus', 'banget,', 'iseng', 'pengen', 'upgrade', 'sabun', 'muka', 'yang', 'katanya', 'low', 'ph', 'dan', 'banyak', 'dipuji..', 'ternyata,', 'ini', 'trouble', 'maker', 'dr', 'semua', 'usaha', 'aku', 'bagusin', 'kulit..', 'baru', '5', 'hari', 'pake..', 'jidat,', 'pipi,', 'sama', 'samping', 'idung', 'keluar', 'ratusan', 'tiny', 'bumps', 'dan', 'sakit', 'banget', 'merah2,', 'sampe', 'stress', 'pake', 'make', 'up', 'keliatan', 'geradakan..', 'dan', 'sampe', 'skrg', 'bingung', 'sembuhin', 'nya', 'lagi', 'gimana..', 'i', 'regret', 'buy', 'this', 'cleanser'], 'negative')\n",
      "(['tergoda', 'beli', 'ini,coz', 'katanya', 'lembut', 'dan', 'cocok', 'banget', 'peeling', 'buat', 'kulit', 'super', 'sensi.wanginya', 'enak', 'banget,gak', 'menyengat,gak', 'perih', 'juga', 'saat', 'digosok', 'di', 'area', 'mata.sayang,gue', 'gak', 'cocok,dihari', 'pertama', 'gue', 'pakek', 'muka', 'gue', 'kayak', 'ketarik,mengeriput,dan', 'paginya', 'langsung', 'bruntusan', 'sakit', 'di', 'daerah', 'pipi.nasib,punya', 'kulit', 'sensian', 'gini,padahal', 'komedo', 'gue', 'lagi', 'banyak-banyaknya', 'akhir2', 'ini.'], 'negative')\n",
      "(['really', 'really', 'love', 'this', 'cleanser.', 'kulit', 'wajahku', 'super', 'sensitif', 'dan', 'gampang', 'bgt', 'jerawatan,', 'salah2', 'pakai', 'product', 'selalu', 'merah2', 'dan', 'jerawatan.', 'tp', 'aku', 'cocok', 'bgt', 'pake', 'ini!', 'saat', 'berusaha', 'melepas', 'ketergantungan', 'dari', 'dokter', 'muka,', 'aku', 'lgsg', 'ganti', 'sabun', 'muka', 'ku', 'ke', 'cetaphil', 'gentle', 'cleanser.', 'aku', 'pakai', 'ini', 'sbagai', 'milk', 'cleanser', 'dan', 'sabun', 'cuci', 'muka', 'ku.', 'hasilnya', 'muka', 'ku', 'jd', 'lebih', 'halus', 'dan', 'ga', 'kusam.', 'no', 'breakout!', 'beberapa', 'temen', 'ku', 'udh', 'aku', 'recomendasiin', 'pakai', 'ini', 'dan', 'ternyata', 'mereka', 'juga', 'cocok', ':).', 'buat', 'yang', 'wajahnya', 'sensitif,', 'gampang', 'jerawatan,', 'dan', 'mau', 'cari', 'face', 'cleanser', 'yang', 'ingredients', 'nya', 'gak', 'aneh2,', 'cetaphil', 'gentle', 'cleanser', 'bakal', 'cocok', 'bgt', 'buat', 'km.', 'worth', 'to', 'try!', 'ak', 'ud', 'repurchase', '3x,', 'dan', 'akan', 'terus', 'repurchase.'], 'positive')\n",
      "(['ga', 'ada', 'deh', 'yang', 'bisa', 'ngegantiin', 'acnes', 'facial', 'wash', 'terutama', 'yang', 'creamy', 'wash', 'ini', 'sebagai', 'pembersih', 'wajah', 'gue.', 'gue', 'tau', 'acnes', 'dari', 'salah', 'satu', 'beauty', 'vlogger', 'indonesia', 'yaitu', 'abel', 'cantika.', 'gue', 'yang', 'saat', 'itu', 'masih', 'berpertualang', 'mencari', 'pembersih', 'wajah', 'yang', 'cocok', 'langsung', 'beli', 'deh', 'abis', 'direkomen', 'sama', 'abel.', 'gue', 'beli', 'yang', 'botol', 'kecil', 'dulu', 'karena', 'takut', 'ga', 'cocok.', 'pas', 'dicoba', 'surprisingly', 'it', 'works!', 'sedikit', 'cerita,', 'dulu', 'gue', 'pake', 'pembersih', 'wajah', 'berinisial', 'p***s', 'yang', 'warna', 'pink', 'itu.', 'jujur', 'aja,', 'pembersih', 'itu', 'bikin', 'muka', 'gue', 'kering', 'banget.', 'gue', 'udah', 'coba', 'berbagai', 'merek', 'pun', 'tetep', 'ga', 'ada', 'yang', 'bisa', 'membuat', 'wajah', 'gue', 'lembab', 'kayak', 'gue', 'pake', 'acnes', 'ini.', 'kemasan', 'creamy', 'wash', 'ini', 'khas', 'acnes', 'gitu', 'lah', 'hijau', 'putih.', 'teksturnya', 'creamy', 'warna', 'putih', 'kekuningan', 'dengan', 'aroma', 'lemon.', 'oia', 'walaupun', 'creamy,', 'acnes', 'yang', 'original', 'ini', 'agak', 'padet', 'jadi', 'pas', 'cuci', 'muka', 'biasanya', 'gue', 'taruh', 'ditangan', 'terus', 'kasih', 'air,', 'usap2', 'sampai', 'keluar', 'busa,', 'barudeh', 'sabunin', 'dimuka.', 'kalau', 'kena', 'mata', 'jujur', 'aja', 'periiiiiih', 'banget', 'terkadang', 'mata', 'gue', 'suka', 'merah', 'kalau', 'kena.', 'abis', 'kelar', 'cuci', 'muka', 'itu', 'hasilnya', 'lembut', 'dan', 'fresh', 'banget.', 'biasanya', 'pinggiran', 'hidung', 'gue', 'suka', 'ngekletek', 'kering', 'gitu', 'tapi', 'pas', 'pakai', 'acnes', 'ini', 'hilang', 'sumpah', 'kering-kering', 'itu.', 'oia', 'ditambah', 'lagi', 'ini', 'ada', 'formula', 'untuk', 'ngilangin', 'jerawatnya....jadinya', 'multifungsi', 'udah', 'ga', 'bikin', 'kering', 'terus', 'jerawat', 'hilang', 'lagi', 'hehe.', 'udah', 'pasti', 'repurchase', 'dong,', 'setiap', 'habis', 'gue', 'pasti', 'bakal', 'beli', ':d.', 'berikut', '(+)', 'dan', '(-)', 'menurut', 'gue', ':', '(+)', 'affordable', 'price', 'bisa', 'dibeli', 'di', 'minimarket', 'manapun', '(alfamart', 'dan', 'indomart', 'adaa!)', 'wangi', 'lemonnya', 'bikin', 'pengen', 'cuci', 'muka', 'terus', 'melembutkan', 'dan', 'ga', 'bikin', 'kering', 'cukup', 'ampuh', 'menghilangkan', 'jerawat', '(-)', 'kalau', 'kena', 'mata', 'perih!!'], 'positive')\n",
      "(['asli', 'mi', 'fw', 'parah', 'bgt😭😭😭😭😭', 'untuk', 'kalian', 'yg', 'masih', 'para', 'remaja', 'jgn', 'coba', 'coba', 'fw', 'yg', 'terallu', 'keras,apalagi', 'kaliam', 'yg', 'tumbuh', 'jerawat', 'karena', 'emg', 'homon,', 'menurut', 'ku', 'ya', 'ini', 'terlalu', 'keras', 'dan', 'keset', 'di', 'muka.', 'dan', 'buat', 'minyak', 'tambah', 'banyak', '.', 'knp?', 'soalnya', 'setelah', 'pake', 'ini', 'buat', 'minyak', 'dimuka', 'tuh', 'ilang', 'seketika', 'kek', 'pake', 'sunligh*', '😂.', 'dan', 'ketika', 'muka', 'kita', 'terlalu', 'kering,otomatis', 'minyak', 'alami', 'wajah', 'kita', 'akan', 'produksi', 'lebih', 'spy', 'menyeimbangkan', 'kadar', 'lembab', 'di', 'wajah.', 'repurchase?', 'offcourse', 'no.', '🙏'], 'negative')\n",
      "(['suka', 'banget', 'produk', 'ini.', 'udah', 'beli', 'tube', 'yang', 'kedua.', 'formulanya', 'lembut', 'dan', 'ngga', 'bikin', 'jerawatan.', 'bikin', 'kulit', 'kenyal.', 'mengandung', 'ha', 'yang', 'bagus', 'banget', 'buat', 'kulit.', 'dan', 'tidak', 'mengandung', 'pewarna,', 'pengawet,', 'atau', 'paraben.', 'harganya', 'murah', 'dan', 'gampang', 'ditemuin', 'juga.'], 'positive')\n",
      "(['menurut', 'gue', 'sih', 'sabun', 'muka', 'ini', 'udah', 'memenuhi', 'all', 'u', 'need', 'in', 'a', 'facial', 'wash.', 'udahanya', 'ga', 'bikin', 'kulit', 'kering.', 'tapi', 'jerawat', 'cepet', 'ilang...', 'dengan', '30rban', 'sabun', 'ini', 'lebih', 'dari', 'ekspektasi', 'lah.', 'setau', 'gue', 'yah', 'ada', 'banyak', 'bentuk', 'dan', 'varian', 'untuk', 'facial', 'foamnya', 'yah..', 'termasuk', 'yang', 'bar(buat', 'badan)', 'dan', 'yang', 'foam', 'udah', 'di', 'coba', 'semua', 'dan', 'cocok.'], 'positive')\n",
      "(['aku', 'tuh', 'penggemar', 'setia', 'rangkaian', 'laneige', 'bgt!!', 'awalnya', 'cb2', 'dulu', 'kemasan', 'travel', 'sizenya,', 'dan', 'setelah', 'beberapa', 'lama', 'pakai', 'cocok', 'di', 'kulit', 'aku.', 'butiran', 'scrubnya', 'ga', 'bikin', 'kulit', 'ketarik,', 'untuk', 'aromanya', 'sih', 'gak', 'ngeganggu.', 'cleanser', 'ini', 'wlwpun', 'harganya', 'memang', 'ya', 'mahal', 'sih', 'buat', 'aku', 'tp', 'buat', 'pemakaian', 'lebih', 'dr', '4', 'bln', 'worth', 'it', 'sama', 'harganya.', 'cukup', 'pakai', 'sedikit', 'aja', 'udh', 'ngebersihin', 'makeup.'], 'positive')\n",
      "(['sebelumnya', 'aku', 'pake', \"kiehl's\", 'yg', 'seri', 'blue', 'herbal', 'dan', 'emang', 'cocok', 'tapi', 'berhubung', 'makin', 'lama', 'harga', \"kiehl's\", 'mahal', 'hehe', 'so', 'coba', 'baca2', 'review', 'klo', 'sabun', 'ini', 'bagus..', 'akhirnya', 'beli', 'deh,', 'eh', 'baru', '2x', 'pake', 'muka', 'ku', 'jd', 'kering', 'gt', 'bener', 'gak', 'ketarik', 'cuman', 'kasar', 'aja..', 'akhirnya', 'stop', 'make', 'trs', 'balik', 'lagi', 'ke', 'sabun', 'yg', 'lama', 'itupun', 'jg', 'msh', 'agak', 'kasar', 'gara2', 'pake', 'sabun', 'senka', 'ini'], 'negative')\n",
      "(['kebodohan', 'di', 'masa', 'smp-sma', 'ku', 'sebelum', 'mencoba', 'mempelajari', 'ingredients', 'list', 'dan', 'mengenal', 'hada', 'labo', '#facepalm.', 'face', 'wash', 'merek', \"pond's\", '(dan', 'berbagai', 'merek', 'unilever', '/', \"l'oreal\", 'lain', 'yang', 'pernah', 'aku', 'pakai', 'mulai', 'dari', 'garnier,', 'citra,', 'acnes', 'or', 'clean', '&', 'clear)', 'ini', 'mostly', 'pakai', 'surfactant', 'potassium/sodium', 'myristate!', 'setelah', 'tahu', 'kalau', 'bahan', 'ini', 'ga', 'beda', 'jauh', 'sama', 'bahan', 'yg', 'bikin', 'sabun', 'batangan', '(bar', 'soap)', 'busanya', 'melimpah,', 'baru', 'sadar', 'kalau', 'kulitku', 'selama', 'ini', 'dibuat', '\"keset\"', 'sama', 'bahan', 'satu', 'ini.', 'thank', 'god', 'aku', 'tahu', 'paula', 'begoun', 'dan', 'akhirnya', 'sampai', 'sekarang', 'hijrah', 'ke', 'hada', 'labo', '&', 'gentle', 'face', 'wash', 'lainnya', 'dan', 'ga', 'pernah', 'berpaling', 'ke', 'belakang', 'lagi.', ':d'], 'negative')\n",
      "(['ini', 'mantap', 'jaya', 'banget!', 'aku', 'baru', 'coba', 'ini', 'selama', 'sebulan', 'dan', 'hasilnya', 'udah', 'terlihat', 'pas', '3', 'hari', 'pertama', 'penggunaan.', 'itu', 'konsisten', 'sampe', 'sekarang.', 'alhasil', 'jerawat', 'kecil-kecilku', 'berkurang', 'banyak', 'banget.', 'tadinya', 'dijidat', 'tuh', 'udah', 'kaya', 'taman', 'jerawat,', 'sekarang', 'udah', 'tinggal', '1-2', 'doang.', 'pokoknya', 'ini', 'top', 'banget.', 'andalan!'], 'negative')\n",
      "(['gasuka', 'bgt', 'sama', 'produk', 'ini,', 'bikin', 'muka', 'jadi', 'makin', 'bruntusan', 'di', 'pipi', 'kanan', 'kiri.', 'yang', 'asalnya', 'berharap', 'sm', 'produk', 'ini', 'bisa', 'ilangin', 'bruntusan', 'di', 'muka', 'malah', 'tambah', 'menjadi', 'deh.', 'dan', 'sedihnya', 'lg', 'bruntusannya', 'susah', 'bgt', 'dihilangin', 'dan', 'bikin', 'muka', 'jadi', 'sensitif', 'sm', 'skincare', 'baru,', 'alhasil', 'skincare', 'yang', 'baru', 'pun', 'malah', 'bikin', 'jadi', 'bruntusan.', 'repurchase?', 'big', 'no!'], 'negative')\n",
      "(['aku', 'sebenarnya', 'suka', 'sama', 'semua', 'produk', 'wardah,', 'terkhusus', 'sabun', 'mukanya.', 'pas', 'sabun', 'muka', 'dari', 'dokterku', 'habis', 'dan', 'ga', 'mau', 'kecanduan', 'lagi', 'sama', 'sabun', 'wajah', 'dari', 'dokter,', 'aku', 'langsung', 'coba', 'sabun', 'muka', 'ini', 'karena', 'pas', 'dipakai', 'mama', 'aku,', 'mukanya', 'beliau', 'ga', 'kenapa-kenapa.', 'setelah', 'aku', 'pakai,', 'bruntusan', 'aku', 'hilang', 'seketika.', 'jadi', 'aku', 'pakai', 'ini', 'terus.', 'tapi', 'lama-lama', 'setelah', 'aku', 'beralih', 'ke', 'sabun', 'muka', 'lain', 'dan', 'mau', 'balik', 'lagi', 'ke', 'sabun', 'muka', 'ini,', 'mukaku', 'jadi', 'merah', 'seketika', 'dan', 'gatal', 'banget.', 'aku', 'ga', 'tau', 'apa', 'mukaku', 'yang', 'salah', 'atau', 'produknya', 'yang', 'emang', 'udah', 'berkembang', 'jadi', 'lebih', 'baik', 'tapi', 'malah', 'ga', 'cocok', 'sama', 'di', 'akunya.', 'akhirnya', 'no', 'repurchase', \":'(\"], 'negative')\n",
      "(['pernah', 'nyobain', 'ini', 'pas', 'jerawatan', 'rada', 'parah', 'karena', 'rekomendasi', 'kakak,', 'dan', 'hellaaaauuw,', 'dia', 'ga', 'ngefek', 'sama', 'sekali', 'di', 'kulit', 'oily-acne', 'proneku,', 'dan', 'malah', 'nambah', 'bruntusan', 'ga', 'karuan.', 'udah', 'gitu', 'abis', 'cumuk', 'rasanya', 'aneh,', 'ga', 'bersih', 'aja', 'ni', 'kulit.', 'apa', 'cocoknya', 'buat', 'kulit', 'kering', 'ya?', 'untung', 'pas', 'itu', 'cuma', 'beli', 'yg', '50gr.'], 'negative')\n",
      "(['sk-ii', 'facial', 'gentle', 'cleanser', 'ini', 'merupakan', 'produk', 'favorit', 'aku.', 'tubenya', 'besar', 'dan', 'isinya', 'sangat', 'banyak,', 'untuk', 'menghabiskan', 'full-sizenya', 'membutuhkan', 'waktu', '1', 'tahun', 'untukku.', 'wanginya', 'seperti', 'aroma', 'bunga', 'mawar,', 'busanya', 'sedikit', 'dan', 'saat', 'digunakan', 'kulit', 'menjadi', 'lembut.', 'setelah', 'dibilas,', 'kulit', 'tidak', 'menjadi', 'kesat', 'atau', 'tertarik,', 'kulit', 'menjadi', 'glowing', 'dan', 'cerah!', 'selanjutnya', 'aku', 'menggunakan', 'toner', 'wscl', 'dan', 'fte', 'nya', 'agar', 'optimal.', 'aku', 'percaya,', 'ada', 'harga', 'ada', 'kualitas,', 'dan', 'sk-ii', 'ini', 'mampu', 'membuktikan', 'kualitasnya.', 'malah', 'kalo', 'aku', 'bilang,', 'lebih', 'besar', 'kualitas', 'yang', 'diberikan', 'daripada', 'harga', 'yang', 'aku', 'bayarkan.', 'tapi', 'kalo', 'dihitung-hitung,', '1', 'tube', 'untuk', '12', 'bulan', 'jadi', 'berapa', 'tuh', 'perbulan?', 'murah', 'juga', 'kan.'], 'positive')\n",
      "(['aku', 'termasuk', 'orang', 'yang', \"'cuma'\", 'gara2', 'facial', 'wash', 'aja', 'bikin', 'jerawatan,', 'dan', 'iseng2', 'atas', 'aku', 'nyoba', 'ini', 'acnes', 'facial', 'wash', 'yang', 'fighting', 'acne,', 'dan', 'yaa', 'its', 'work..', 'walaupun', 'ga', 'ampuh,', 'tapi', 'facial', 'wash', 'ini', 'ga', 'bikin', 'jerawatku', 'nambah,', 'dan', '(maybe)', 'sedikit', 'ngurangi', 'jerawat', 'aku..efek', 'setelah', 'cuci', 'mukanya', 'aku', 'lumayan', 'suka', 'juga,', 'keset', 'tapi', 'ga', 'bikin', 'kering', 'dan', 'ketarik.', 'tapi', 'karena', 'ini', 'memang', 'facial', 'wash', 'untuk', 'acne,', 'jadi', 'gabisa', 'kasih', 'hasil', 'lain', 'selain', '(mungkin)', 'mengurangi', 'jerawat..but', 'overall', 'aku', 'suka,', 'dengan', 'harga', 'yang', 'sangat', 'murah', 'meriah', 'dan', 'amat', 'sangat', 'terjangkau', 'facial', 'wash', 'ini', 'memberikan', 'hasil', 'yang', 'nyata..', 'thankyou', 'acnes', '????????dan', 'sekarang', 'aku', 'selalu', 'beli', 'ini', 'facial', 'wash', 'setiap', 'kali', 'belanja', 'ke', 'drugstore', 'lol'], 'positive')\n"
     ]
    }
   ],
   "source": [
    "for sentiment in prediction:\n",
    "    print(sentiment)"
   ]
  },
  {
   "cell_type": "markdown",
   "metadata": {},
   "source": [
    "# HITUNG AKURASI"
   ]
  },
  {
   "cell_type": "code",
   "execution_count": 29,
   "metadata": {},
   "outputs": [
    {
     "data": {
      "text/plain": [
       "82.0"
      ]
     },
     "execution_count": 29,
     "metadata": {},
     "output_type": "execute_result"
    }
   ],
   "source": [
    "num_true = 0\n",
    "for k,val in enumerate(validation_test):\n",
    "    if val==sentiments_test[k]: \n",
    "        num_true+=1\n",
    "accuracy = (num_true/len(reviews_test))*100\n",
    "accuracy"
   ]
  },
  {
   "cell_type": "code",
   "execution_count": null,
   "metadata": {},
   "outputs": [],
   "source": []
  }
 ],
 "metadata": {
  "kernelspec": {
   "display_name": "Python 3",
   "language": "python",
   "name": "python3"
  },
  "language_info": {
   "codemirror_mode": {
    "name": "ipython",
    "version": 3
   },
   "file_extension": ".py",
   "mimetype": "text/x-python",
   "name": "python",
   "nbconvert_exporter": "python",
   "pygments_lexer": "ipython3",
   "version": "3.7.0"
  }
 },
 "nbformat": 4,
 "nbformat_minor": 2
}
